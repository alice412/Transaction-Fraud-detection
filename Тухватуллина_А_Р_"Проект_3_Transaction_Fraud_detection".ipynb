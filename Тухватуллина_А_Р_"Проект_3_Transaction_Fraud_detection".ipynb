{
  "nbformat": 4,
  "nbformat_minor": 0,
  "metadata": {
    "colab": {
      "name": "Тухватуллина А.Р. \"Проект 3. Transaction Fraud detection\"",
      "provenance": [],
      "collapsed_sections": [
        "JCqif_Y-6q97",
        "unc0NJCy-ifn",
        "_lQbAjal0px3",
        "2jzpmzzi3JW4"
      ],
      "include_colab_link": true
    },
    "kernelspec": {
      "name": "python3",
      "display_name": "Python 3"
    }
  },
  "cells": [
    {
      "cell_type": "markdown",
      "metadata": {
        "id": "view-in-github",
        "colab_type": "text"
      },
      "source": [
        "<a href=\"https://colab.research.google.com/github/alice412/Transaction-Fraud-detection/blob/main/%D0%A2%D1%83%D1%85%D0%B2%D0%B0%D1%82%D1%83%D0%BB%D0%BB%D0%B8%D0%BD%D0%B0_%D0%90_%D0%A0_%22%D0%9F%D1%80%D0%BE%D0%B5%D0%BA%D1%82_3_Transaction_Fraud_detection%22.ipynb\" target=\"_parent\"><img src=\"https://colab.research.google.com/assets/colab-badge.svg\" alt=\"Open In Colab\"/></a>"
      ]
    },
    {
      "cell_type": "markdown",
      "metadata": {
        "id": "q1nO87HOLuWV"
      },
      "source": [
        "# Transaction Fraud detection\n",
        "\n",
        "Мошенничество можно встретить во многих различных областях, таких как электронная коммерция, здравоохранение, платежные и банковские системы. Мошенничество - миллиардный рынок, и его объем увеличивается с каждым годом. Глобальный обзор экономических преступлений, проведенный PwC в 2018 году, показал, что половина (49 процентов) из 7 200 опрошенных компаний сталкивались с каким-либо мошенничеством.\n",
        "\n",
        "Даже если мошенничество кажется опасным для бизнеса, его можно обнаружить с помощью интеллектуальных систем, таких как механизмы правил или машинное обучение.\n",
        "\n",
        "Механизм правил - это программная система, которая выполняет одно или несколько бизнес-правил в рабочей среде выполнения. Эти правила обычно пишутся экспертами в предметной области для передачи знаний о проблеме механизму правил и оттуда в производство.\n",
        "\n",
        "Правила отлично подходят для обнаружения некоторых видов мошенничества, но в некоторых случаях они могут вызывать множество ложных срабатываний или ложноотрицательных результатов, потому что у них есть предопределенные пороговые значения. Например, представим правило для отказа в транзакции, сумма которой превышает 10000 долларов для конкретного пользователя. Если этот пользователь является опытным мошенником, он / она может знать о том, что в системе будет установлен порог, и он / она может просто совершить транзакцию чуть ниже порогового значения (9999 долларов).\n",
        "\n",
        "Для этого типа проблем ML приходит на помощь и снижает риск мошенничества и риск потери денег для бизнеса. Благодаря сочетанию правил и машинного обучения обнаружение мошенничества будет более точным и уверенным.\n",
        "\n",
        "# Набор данных Banksim\n",
        "Мы выявляем мошеннические транзакции из набора данных Banksim. Этот синтетически созданный набор данных состоит из платежей от разных клиентов, произведенных в разные периоды времени и с разными суммами. Для получения дополнительной информации о наборе данных вы можете посмотреть [страницу на  Kaggle](https://www.kaggle.com/ntnu-testimon/banksim1) для этого набора данных, где также есть ссылка на исходный документ.\n",
        "\n",
        "# Описание колонок\n",
        "* Step: Означает день со старта симуляции (максимум 180, т.е примерно 6 месяцев).\n",
        "* Customer: Идентификатор покупателя\n",
        "* zipCodeOrigin: ZIP код покупателя\n",
        "* Merchant: Идентификатор продавца\n",
        "* zipMerchant: ZIP код продавца\n",
        "* Age: категоризованный возраст\n",
        "0: <= 18,\n",
        "1: 19-25,\n",
        "2: 26-35,\n",
        "3: 36-45,\n",
        "4: 46-55,\n",
        "5: 56-65,\n",
        "6: > 65\n",
        "U: Неизвестно (Unknown)\n",
        "* Gender: Gender for customer\n",
        "E: Компания (Enterprise),\n",
        "F: Женский (Female),\n",
        "M: Мужской (Male,\n",
        "U: Неизвестно (Unknown)\n",
        "* Category: Категория покупки\n",
        "* Amount: Объем транзакции\n",
        "* Fraud: 1 (fraud, мошенничество), 0 (обычная транзакция)"
      ]
    },
    {
      "cell_type": "markdown",
      "metadata": {
        "id": "IQ9lOmA0OWMn"
      },
      "source": [
        "[Ссылка на набор данных](https://drive.google.com/file/d/1PFnTLIPx3lJ7pmf0JvVhjpWpZ8GsJTn7/view?usp=sharing)"
      ]
    },
    {
      "cell_type": "markdown",
      "metadata": {
        "id": "h1yDjiOOOfEF"
      },
      "source": [
        "# Задание\n",
        "1. Проведите первичный анализ данных, сформулируйте эвристики для детекции фрода (аномалий), которые можно использовать в качестве базового решения. Приведите метрики качества для оценки вашего алгоритма.\n",
        "2. Попробуйте получить решение лучше по метрикам (с помощью модели ML), чем эвристика, помните, что класс 1 (мошенничество) в целом скорее важнее, чем класс 0.\n",
        "3. Изучите одну из техник балансировки выборки (например, [оверсемплинг с помощью метода SMOTE](https://habr.com/ru/post/461285/)) и попробуйте еще улучшить качество алгоритма.\n",
        "4. Выберите лучший алгоритм по пунктам 1-2-3 и внесите часть тестовой выборки (с предсказанием) в вашу учебную базу, а затем постройте дэшборд в redash в котором будет отражена информация о количестве фродовых транзакций за неделю, а также будут выведены последние 10 фродовых транзакций, требующих проверки."
      ]
    },
    {
      "cell_type": "code",
      "metadata": {
        "colab": {
          "base_uri": "https://localhost:8080/"
        },
        "id": "9LYTGJdo3YB3",
        "outputId": "c0736309-7f4b-4969-8aeb-7a4387944180"
      },
      "source": [
        "from google.colab import drive\n",
        "drive.mount('/content/drive')"
      ],
      "execution_count": null,
      "outputs": [
        {
          "output_type": "stream",
          "text": [
            "Drive already mounted at /content/drive; to attempt to forcibly remount, call drive.mount(\"/content/drive\", force_remount=True).\n"
          ],
          "name": "stdout"
        }
      ]
    },
    {
      "cell_type": "code",
      "metadata": {
        "id": "JUNnEG9E1TFW"
      },
      "source": [
        "import pandas as pd\n",
        "import numpy as np\n",
        "import matplotlib.pyplot as plt\n",
        "import matplotlib.ticker as ticker\n",
        "import seaborn as sns\n",
        "import datetime\n",
        "import time\n",
        "%matplotlib inline"
      ],
      "execution_count": null,
      "outputs": []
    },
    {
      "cell_type": "code",
      "metadata": {
        "id": "r2AM1ZxelCgA"
      },
      "source": [
        "path = 'drive/MyDrive/Colab Notebooks/bs140513_032310.csv'"
      ],
      "execution_count": null,
      "outputs": []
    },
    {
      "cell_type": "code",
      "metadata": {
        "id": "JxRDNFknOVdY",
        "colab": {
          "base_uri": "https://localhost:8080/"
        },
        "outputId": "c712440e-f1f5-463a-d584-3db0ee98093a"
      },
      "source": [
        "df_orign = pd.read_csv(path, sep=',', quotechar='\\'')\n",
        "df_orign.head(5)"
      ],
      "execution_count": null,
      "outputs": [
        {
          "output_type": "execute_result",
          "data": {
            "text/html": [
              "<div>\n",
              "<style scoped>\n",
              "    .dataframe tbody tr th:only-of-type {\n",
              "        vertical-align: middle;\n",
              "    }\n",
              "\n",
              "    .dataframe tbody tr th {\n",
              "        vertical-align: top;\n",
              "    }\n",
              "\n",
              "    .dataframe thead th {\n",
              "        text-align: right;\n",
              "    }\n",
              "</style>\n",
              "<table border=\"1\" class=\"dataframe\">\n",
              "  <thead>\n",
              "    <tr style=\"text-align: right;\">\n",
              "      <th></th>\n",
              "      <th>step</th>\n",
              "      <th>customer</th>\n",
              "      <th>age</th>\n",
              "      <th>gender</th>\n",
              "      <th>zipcodeOri</th>\n",
              "      <th>merchant</th>\n",
              "      <th>zipMerchant</th>\n",
              "      <th>category</th>\n",
              "      <th>amount</th>\n",
              "      <th>fraud</th>\n",
              "    </tr>\n",
              "  </thead>\n",
              "  <tbody>\n",
              "    <tr>\n",
              "      <th>0</th>\n",
              "      <td>0</td>\n",
              "      <td>C1093826151</td>\n",
              "      <td>4</td>\n",
              "      <td>M</td>\n",
              "      <td>28007</td>\n",
              "      <td>M348934600</td>\n",
              "      <td>28007</td>\n",
              "      <td>es_transportation</td>\n",
              "      <td>4.55</td>\n",
              "      <td>0</td>\n",
              "    </tr>\n",
              "    <tr>\n",
              "      <th>1</th>\n",
              "      <td>0</td>\n",
              "      <td>C352968107</td>\n",
              "      <td>2</td>\n",
              "      <td>M</td>\n",
              "      <td>28007</td>\n",
              "      <td>M348934600</td>\n",
              "      <td>28007</td>\n",
              "      <td>es_transportation</td>\n",
              "      <td>39.68</td>\n",
              "      <td>0</td>\n",
              "    </tr>\n",
              "    <tr>\n",
              "      <th>2</th>\n",
              "      <td>0</td>\n",
              "      <td>C2054744914</td>\n",
              "      <td>4</td>\n",
              "      <td>F</td>\n",
              "      <td>28007</td>\n",
              "      <td>M1823072687</td>\n",
              "      <td>28007</td>\n",
              "      <td>es_transportation</td>\n",
              "      <td>26.89</td>\n",
              "      <td>0</td>\n",
              "    </tr>\n",
              "    <tr>\n",
              "      <th>3</th>\n",
              "      <td>0</td>\n",
              "      <td>C1760612790</td>\n",
              "      <td>3</td>\n",
              "      <td>M</td>\n",
              "      <td>28007</td>\n",
              "      <td>M348934600</td>\n",
              "      <td>28007</td>\n",
              "      <td>es_transportation</td>\n",
              "      <td>17.25</td>\n",
              "      <td>0</td>\n",
              "    </tr>\n",
              "    <tr>\n",
              "      <th>4</th>\n",
              "      <td>0</td>\n",
              "      <td>C757503768</td>\n",
              "      <td>5</td>\n",
              "      <td>M</td>\n",
              "      <td>28007</td>\n",
              "      <td>M348934600</td>\n",
              "      <td>28007</td>\n",
              "      <td>es_transportation</td>\n",
              "      <td>35.72</td>\n",
              "      <td>0</td>\n",
              "    </tr>\n",
              "  </tbody>\n",
              "</table>\n",
              "</div>"
            ],
            "text/plain": [
              "   step     customer age gender  ...  zipMerchant           category  amount fraud\n",
              "0     0  C1093826151   4      M  ...        28007  es_transportation    4.55     0\n",
              "1     0   C352968107   2      M  ...        28007  es_transportation   39.68     0\n",
              "2     0  C2054744914   4      F  ...        28007  es_transportation   26.89     0\n",
              "3     0  C1760612790   3      M  ...        28007  es_transportation   17.25     0\n",
              "4     0   C757503768   5      M  ...        28007  es_transportation   35.72     0\n",
              "\n",
              "[5 rows x 10 columns]"
            ]
          },
          "metadata": {
            "tags": []
          },
          "execution_count": 30
        }
      ]
    },
    {
      "cell_type": "markdown",
      "metadata": {
        "id": "3qZALXHFlkig"
      },
      "source": [
        "## Первичный анализ данных\n",
        "Проверим датасет на наличие пропусков,\n",
        "проведем оценку и оптимизацию типов данных, содержащихся в датасете "
      ]
    },
    {
      "cell_type": "code",
      "metadata": {
        "id": "4gZr-KyTLrqi",
        "colab": {
          "base_uri": "https://localhost:8080/"
        },
        "outputId": "5379aa93-05a1-4a54-97a6-b4158e67139a"
      },
      "source": [
        "df_orign.info()"
      ],
      "execution_count": null,
      "outputs": [
        {
          "output_type": "stream",
          "text": [
            "<class 'pandas.core.frame.DataFrame'>\n",
            "RangeIndex: 594643 entries, 0 to 594642\n",
            "Data columns (total 10 columns):\n",
            " #   Column       Non-Null Count   Dtype  \n",
            "---  ------       --------------   -----  \n",
            " 0   step         594643 non-null  int64  \n",
            " 1   customer     594643 non-null  object \n",
            " 2   age          594643 non-null  object \n",
            " 3   gender       594643 non-null  object \n",
            " 4   zipcodeOri   594643 non-null  int64  \n",
            " 5   merchant     594643 non-null  object \n",
            " 6   zipMerchant  594643 non-null  int64  \n",
            " 7   category     594643 non-null  object \n",
            " 8   amount       594643 non-null  float64\n",
            " 9   fraud        594643 non-null  int64  \n",
            "dtypes: float64(1), int64(4), object(5)\n",
            "memory usage: 45.4+ MB\n"
          ],
          "name": "stdout"
        }
      ]
    },
    {
      "cell_type": "code",
      "metadata": {
        "id": "TQIM-dBz2IuR",
        "colab": {
          "base_uri": "https://localhost:8080/"
        },
        "outputId": "e8b6f5df-4048-4ef5-acd9-01ecb50fde8b"
      },
      "source": [
        "df_orign.nunique()"
      ],
      "execution_count": null,
      "outputs": [
        {
          "output_type": "execute_result",
          "data": {
            "text/plain": [
              "step             180\n",
              "customer        4112\n",
              "age                8\n",
              "gender             4\n",
              "zipcodeOri         1\n",
              "merchant          50\n",
              "zipMerchant        1\n",
              "category          15\n",
              "amount         23767\n",
              "fraud              2\n",
              "dtype: int64"
            ]
          },
          "metadata": {
            "tags": []
          },
          "execution_count": 7
        }
      ]
    },
    {
      "cell_type": "markdown",
      "metadata": {
        "id": "aksIp-ximRQk"
      },
      "source": [
        "Поскольку zip-коды покупателя и продавца идентичны для каждой записи и не дают\n",
        "нам полезной информации, удалим эти признаки из набора данных."
      ]
    },
    {
      "cell_type": "code",
      "metadata": {
        "id": "R9a0QNN23i-W",
        "colab": {
          "base_uri": "https://localhost:8080/",
          "height": 204
        },
        "outputId": "1c237463-a2bf-40d6-b5d4-00d7ea33bf45"
      },
      "source": [
        "df = df_orign.drop( ['zipcodeOri', 'zipMerchant'], axis=1)\n",
        "df.head()"
      ],
      "execution_count": null,
      "outputs": [
        {
          "output_type": "execute_result",
          "data": {
            "text/html": [
              "<div>\n",
              "<style scoped>\n",
              "    .dataframe tbody tr th:only-of-type {\n",
              "        vertical-align: middle;\n",
              "    }\n",
              "\n",
              "    .dataframe tbody tr th {\n",
              "        vertical-align: top;\n",
              "    }\n",
              "\n",
              "    .dataframe thead th {\n",
              "        text-align: right;\n",
              "    }\n",
              "</style>\n",
              "<table border=\"1\" class=\"dataframe\">\n",
              "  <thead>\n",
              "    <tr style=\"text-align: right;\">\n",
              "      <th></th>\n",
              "      <th>step</th>\n",
              "      <th>customer</th>\n",
              "      <th>age</th>\n",
              "      <th>gender</th>\n",
              "      <th>merchant</th>\n",
              "      <th>category</th>\n",
              "      <th>amount</th>\n",
              "      <th>fraud</th>\n",
              "    </tr>\n",
              "  </thead>\n",
              "  <tbody>\n",
              "    <tr>\n",
              "      <th>0</th>\n",
              "      <td>0</td>\n",
              "      <td>C1093826151</td>\n",
              "      <td>4</td>\n",
              "      <td>M</td>\n",
              "      <td>M348934600</td>\n",
              "      <td>es_transportation</td>\n",
              "      <td>4.55</td>\n",
              "      <td>0</td>\n",
              "    </tr>\n",
              "    <tr>\n",
              "      <th>1</th>\n",
              "      <td>0</td>\n",
              "      <td>C352968107</td>\n",
              "      <td>2</td>\n",
              "      <td>M</td>\n",
              "      <td>M348934600</td>\n",
              "      <td>es_transportation</td>\n",
              "      <td>39.68</td>\n",
              "      <td>0</td>\n",
              "    </tr>\n",
              "    <tr>\n",
              "      <th>2</th>\n",
              "      <td>0</td>\n",
              "      <td>C2054744914</td>\n",
              "      <td>4</td>\n",
              "      <td>F</td>\n",
              "      <td>M1823072687</td>\n",
              "      <td>es_transportation</td>\n",
              "      <td>26.89</td>\n",
              "      <td>0</td>\n",
              "    </tr>\n",
              "    <tr>\n",
              "      <th>3</th>\n",
              "      <td>0</td>\n",
              "      <td>C1760612790</td>\n",
              "      <td>3</td>\n",
              "      <td>M</td>\n",
              "      <td>M348934600</td>\n",
              "      <td>es_transportation</td>\n",
              "      <td>17.25</td>\n",
              "      <td>0</td>\n",
              "    </tr>\n",
              "    <tr>\n",
              "      <th>4</th>\n",
              "      <td>0</td>\n",
              "      <td>C757503768</td>\n",
              "      <td>5</td>\n",
              "      <td>M</td>\n",
              "      <td>M348934600</td>\n",
              "      <td>es_transportation</td>\n",
              "      <td>35.72</td>\n",
              "      <td>0</td>\n",
              "    </tr>\n",
              "  </tbody>\n",
              "</table>\n",
              "</div>"
            ],
            "text/plain": [
              "   step     customer age gender     merchant           category  amount  fraud\n",
              "0     0  C1093826151   4      M   M348934600  es_transportation    4.55      0\n",
              "1     0   C352968107   2      M   M348934600  es_transportation   39.68      0\n",
              "2     0  C2054744914   4      F  M1823072687  es_transportation   26.89      0\n",
              "3     0  C1760612790   3      M   M348934600  es_transportation   17.25      0\n",
              "4     0   C757503768   5      M   M348934600  es_transportation   35.72      0"
            ]
          },
          "metadata": {
            "tags": []
          },
          "execution_count": 4
        }
      ]
    },
    {
      "cell_type": "code",
      "metadata": {
        "id": "uLSgacjB4S-t"
      },
      "source": [
        "df['age'].replace({'U': '7'}, inplace=True)"
      ],
      "execution_count": null,
      "outputs": []
    },
    {
      "cell_type": "code",
      "metadata": {
        "colab": {
          "base_uri": "https://localhost:8080/",
          "height": 204
        },
        "id": "ZagRoiSo7DNK",
        "outputId": "664d37ec-3b9a-4b33-bde2-013f60120d2e"
      },
      "source": [
        "# добавляем в набор признаков категорию, которая будет учитывать \n",
        "# пол и возраст одновременно\n",
        "\n",
        "df['age_gender'] = df['age'] + df['gender']\n",
        "df.head() "
      ],
      "execution_count": null,
      "outputs": [
        {
          "output_type": "execute_result",
          "data": {
            "text/html": [
              "<div>\n",
              "<style scoped>\n",
              "    .dataframe tbody tr th:only-of-type {\n",
              "        vertical-align: middle;\n",
              "    }\n",
              "\n",
              "    .dataframe tbody tr th {\n",
              "        vertical-align: top;\n",
              "    }\n",
              "\n",
              "    .dataframe thead th {\n",
              "        text-align: right;\n",
              "    }\n",
              "</style>\n",
              "<table border=\"1\" class=\"dataframe\">\n",
              "  <thead>\n",
              "    <tr style=\"text-align: right;\">\n",
              "      <th></th>\n",
              "      <th>step</th>\n",
              "      <th>customer</th>\n",
              "      <th>age</th>\n",
              "      <th>gender</th>\n",
              "      <th>merchant</th>\n",
              "      <th>category</th>\n",
              "      <th>amount</th>\n",
              "      <th>fraud</th>\n",
              "      <th>age_gender</th>\n",
              "    </tr>\n",
              "  </thead>\n",
              "  <tbody>\n",
              "    <tr>\n",
              "      <th>0</th>\n",
              "      <td>0</td>\n",
              "      <td>C1093826151</td>\n",
              "      <td>4</td>\n",
              "      <td>M</td>\n",
              "      <td>M348934600</td>\n",
              "      <td>es_transportation</td>\n",
              "      <td>4.55</td>\n",
              "      <td>0</td>\n",
              "      <td>4M</td>\n",
              "    </tr>\n",
              "    <tr>\n",
              "      <th>1</th>\n",
              "      <td>0</td>\n",
              "      <td>C352968107</td>\n",
              "      <td>2</td>\n",
              "      <td>M</td>\n",
              "      <td>M348934600</td>\n",
              "      <td>es_transportation</td>\n",
              "      <td>39.68</td>\n",
              "      <td>0</td>\n",
              "      <td>2M</td>\n",
              "    </tr>\n",
              "    <tr>\n",
              "      <th>2</th>\n",
              "      <td>0</td>\n",
              "      <td>C2054744914</td>\n",
              "      <td>4</td>\n",
              "      <td>F</td>\n",
              "      <td>M1823072687</td>\n",
              "      <td>es_transportation</td>\n",
              "      <td>26.89</td>\n",
              "      <td>0</td>\n",
              "      <td>4F</td>\n",
              "    </tr>\n",
              "    <tr>\n",
              "      <th>3</th>\n",
              "      <td>0</td>\n",
              "      <td>C1760612790</td>\n",
              "      <td>3</td>\n",
              "      <td>M</td>\n",
              "      <td>M348934600</td>\n",
              "      <td>es_transportation</td>\n",
              "      <td>17.25</td>\n",
              "      <td>0</td>\n",
              "      <td>3M</td>\n",
              "    </tr>\n",
              "    <tr>\n",
              "      <th>4</th>\n",
              "      <td>0</td>\n",
              "      <td>C757503768</td>\n",
              "      <td>5</td>\n",
              "      <td>M</td>\n",
              "      <td>M348934600</td>\n",
              "      <td>es_transportation</td>\n",
              "      <td>35.72</td>\n",
              "      <td>0</td>\n",
              "      <td>5M</td>\n",
              "    </tr>\n",
              "  </tbody>\n",
              "</table>\n",
              "</div>"
            ],
            "text/plain": [
              "   step     customer age gender  ...           category amount  fraud  age_gender\n",
              "0     0  C1093826151   4      M  ...  es_transportation   4.55      0          4M\n",
              "1     0   C352968107   2      M  ...  es_transportation  39.68      0          2M\n",
              "2     0  C2054744914   4      F  ...  es_transportation  26.89      0          4F\n",
              "3     0  C1760612790   3      M  ...  es_transportation  17.25      0          3M\n",
              "4     0   C757503768   5      M  ...  es_transportation  35.72      0          5M\n",
              "\n",
              "[5 rows x 9 columns]"
            ]
          },
          "metadata": {
            "tags": []
          },
          "execution_count": 6
        }
      ]
    },
    {
      "cell_type": "code",
      "metadata": {
        "id": "AZ7STri6OErL"
      },
      "source": [
        "# оптимизируем набор данных по типам \n",
        "df = df.astype({\n",
        "    'step': 'int32',\n",
        "    'age': 'int8',\n",
        "    'fraud': 'int8'\n",
        "})"
      ],
      "execution_count": null,
      "outputs": []
    },
    {
      "cell_type": "code",
      "metadata": {
        "colab": {
          "base_uri": "https://localhost:8080/"
        },
        "id": "ZcY4amP4psjW",
        "outputId": "26686b7c-76bb-4fbb-eaf2-3cd965ecdcd5"
      },
      "source": [
        "df.info()"
      ],
      "execution_count": null,
      "outputs": [
        {
          "output_type": "stream",
          "text": [
            "<class 'pandas.core.frame.DataFrame'>\n",
            "RangeIndex: 594643 entries, 0 to 594642\n",
            "Data columns (total 9 columns):\n",
            " #   Column      Non-Null Count   Dtype  \n",
            "---  ------      --------------   -----  \n",
            " 0   step        594643 non-null  int32  \n",
            " 1   customer    594643 non-null  object \n",
            " 2   age         594643 non-null  int8   \n",
            " 3   gender      594643 non-null  object \n",
            " 4   merchant    594643 non-null  object \n",
            " 5   category    594643 non-null  object \n",
            " 6   amount      594643 non-null  float64\n",
            " 7   fraud       594643 non-null  int8   \n",
            " 8   age_gender  594643 non-null  object \n",
            "dtypes: float64(1), int32(1), int8(2), object(5)\n",
            "memory usage: 30.6+ MB\n"
          ],
          "name": "stdout"
        }
      ]
    },
    {
      "cell_type": "code",
      "metadata": {
        "colab": {
          "base_uri": "https://localhost:8080/",
          "height": 297
        },
        "id": "Cjsz9lH911LR",
        "outputId": "f19ec97c-67e4-4fa3-e523-a141d685816d"
      },
      "source": [
        "df.describe()"
      ],
      "execution_count": null,
      "outputs": [
        {
          "output_type": "execute_result",
          "data": {
            "text/html": [
              "<div>\n",
              "<style scoped>\n",
              "    .dataframe tbody tr th:only-of-type {\n",
              "        vertical-align: middle;\n",
              "    }\n",
              "\n",
              "    .dataframe tbody tr th {\n",
              "        vertical-align: top;\n",
              "    }\n",
              "\n",
              "    .dataframe thead th {\n",
              "        text-align: right;\n",
              "    }\n",
              "</style>\n",
              "<table border=\"1\" class=\"dataframe\">\n",
              "  <thead>\n",
              "    <tr style=\"text-align: right;\">\n",
              "      <th></th>\n",
              "      <th>step</th>\n",
              "      <th>age</th>\n",
              "      <th>amount</th>\n",
              "      <th>fraud</th>\n",
              "    </tr>\n",
              "  </thead>\n",
              "  <tbody>\n",
              "    <tr>\n",
              "      <th>count</th>\n",
              "      <td>594643.000000</td>\n",
              "      <td>594643.000000</td>\n",
              "      <td>594643.000000</td>\n",
              "      <td>594643.000000</td>\n",
              "    </tr>\n",
              "    <tr>\n",
              "      <th>mean</th>\n",
              "      <td>94.986827</td>\n",
              "      <td>3.014151</td>\n",
              "      <td>37.890135</td>\n",
              "      <td>0.012108</td>\n",
              "    </tr>\n",
              "    <tr>\n",
              "      <th>std</th>\n",
              "      <td>51.053632</td>\n",
              "      <td>1.335884</td>\n",
              "      <td>111.402831</td>\n",
              "      <td>0.109369</td>\n",
              "    </tr>\n",
              "    <tr>\n",
              "      <th>min</th>\n",
              "      <td>0.000000</td>\n",
              "      <td>0.000000</td>\n",
              "      <td>0.000000</td>\n",
              "      <td>0.000000</td>\n",
              "    </tr>\n",
              "    <tr>\n",
              "      <th>25%</th>\n",
              "      <td>52.000000</td>\n",
              "      <td>2.000000</td>\n",
              "      <td>13.740000</td>\n",
              "      <td>0.000000</td>\n",
              "    </tr>\n",
              "    <tr>\n",
              "      <th>50%</th>\n",
              "      <td>97.000000</td>\n",
              "      <td>3.000000</td>\n",
              "      <td>26.900000</td>\n",
              "      <td>0.000000</td>\n",
              "    </tr>\n",
              "    <tr>\n",
              "      <th>75%</th>\n",
              "      <td>139.000000</td>\n",
              "      <td>4.000000</td>\n",
              "      <td>42.540000</td>\n",
              "      <td>0.000000</td>\n",
              "    </tr>\n",
              "    <tr>\n",
              "      <th>max</th>\n",
              "      <td>179.000000</td>\n",
              "      <td>7.000000</td>\n",
              "      <td>8329.960000</td>\n",
              "      <td>1.000000</td>\n",
              "    </tr>\n",
              "  </tbody>\n",
              "</table>\n",
              "</div>"
            ],
            "text/plain": [
              "                step            age         amount          fraud\n",
              "count  594643.000000  594643.000000  594643.000000  594643.000000\n",
              "mean       94.986827       3.014151      37.890135       0.012108\n",
              "std        51.053632       1.335884     111.402831       0.109369\n",
              "min         0.000000       0.000000       0.000000       0.000000\n",
              "25%        52.000000       2.000000      13.740000       0.000000\n",
              "50%        97.000000       3.000000      26.900000       0.000000\n",
              "75%       139.000000       4.000000      42.540000       0.000000\n",
              "max       179.000000       7.000000    8329.960000       1.000000"
            ]
          },
          "metadata": {
            "tags": []
          },
          "execution_count": 13
        }
      ]
    },
    {
      "cell_type": "markdown",
      "metadata": {
        "id": "iaNej0gdq0In"
      },
      "source": [
        "## Оценка данных в разрезе различных признаков"
      ]
    },
    {
      "cell_type": "code",
      "metadata": {
        "colab": {
          "base_uri": "https://localhost:8080/",
          "height": 576
        },
        "id": "-14V_doHrTSE",
        "outputId": "f3c31e2d-5ae0-42d3-c9fa-a31037543470"
      },
      "source": [
        "df.groupby(['fraud']).describe().stack()"
      ],
      "execution_count": null,
      "outputs": [
        {
          "output_type": "execute_result",
          "data": {
            "text/html": [
              "<div>\n",
              "<style scoped>\n",
              "    .dataframe tbody tr th:only-of-type {\n",
              "        vertical-align: middle;\n",
              "    }\n",
              "\n",
              "    .dataframe tbody tr th {\n",
              "        vertical-align: top;\n",
              "    }\n",
              "\n",
              "    .dataframe thead th {\n",
              "        text-align: right;\n",
              "    }\n",
              "</style>\n",
              "<table border=\"1\" class=\"dataframe\">\n",
              "  <thead>\n",
              "    <tr style=\"text-align: right;\">\n",
              "      <th></th>\n",
              "      <th></th>\n",
              "      <th>step</th>\n",
              "      <th>age</th>\n",
              "      <th>amount</th>\n",
              "    </tr>\n",
              "    <tr>\n",
              "      <th>fraud</th>\n",
              "      <th></th>\n",
              "      <th></th>\n",
              "      <th></th>\n",
              "      <th></th>\n",
              "    </tr>\n",
              "  </thead>\n",
              "  <tbody>\n",
              "    <tr>\n",
              "      <th rowspan=\"8\" valign=\"top\">0</th>\n",
              "      <th>count</th>\n",
              "      <td>587443.000000</td>\n",
              "      <td>587443.000000</td>\n",
              "      <td>587443.000000</td>\n",
              "    </tr>\n",
              "    <tr>\n",
              "      <th>mean</th>\n",
              "      <td>95.054077</td>\n",
              "      <td>3.014790</td>\n",
              "      <td>31.847230</td>\n",
              "    </tr>\n",
              "    <tr>\n",
              "      <th>std</th>\n",
              "      <td>51.038755</td>\n",
              "      <td>1.336325</td>\n",
              "      <td>31.470876</td>\n",
              "    </tr>\n",
              "    <tr>\n",
              "      <th>min</th>\n",
              "      <td>0.000000</td>\n",
              "      <td>0.000000</td>\n",
              "      <td>0.000000</td>\n",
              "    </tr>\n",
              "    <tr>\n",
              "      <th>25%</th>\n",
              "      <td>52.000000</td>\n",
              "      <td>2.000000</td>\n",
              "      <td>13.590000</td>\n",
              "    </tr>\n",
              "    <tr>\n",
              "      <th>50%</th>\n",
              "      <td>97.000000</td>\n",
              "      <td>3.000000</td>\n",
              "      <td>26.610000</td>\n",
              "    </tr>\n",
              "    <tr>\n",
              "      <th>75%</th>\n",
              "      <td>139.000000</td>\n",
              "      <td>4.000000</td>\n",
              "      <td>41.895000</td>\n",
              "    </tr>\n",
              "    <tr>\n",
              "      <th>max</th>\n",
              "      <td>179.000000</td>\n",
              "      <td>7.000000</td>\n",
              "      <td>2144.860000</td>\n",
              "    </tr>\n",
              "    <tr>\n",
              "      <th rowspan=\"8\" valign=\"top\">1</th>\n",
              "      <th>count</th>\n",
              "      <td>7200.000000</td>\n",
              "      <td>7200.000000</td>\n",
              "      <td>7200.000000</td>\n",
              "    </tr>\n",
              "    <tr>\n",
              "      <th>mean</th>\n",
              "      <td>89.500000</td>\n",
              "      <td>2.962083</td>\n",
              "      <td>530.926551</td>\n",
              "    </tr>\n",
              "    <tr>\n",
              "      <th>std</th>\n",
              "      <td>51.964331</td>\n",
              "      <td>1.298414</td>\n",
              "      <td>835.587112</td>\n",
              "    </tr>\n",
              "    <tr>\n",
              "      <th>min</th>\n",
              "      <td>0.000000</td>\n",
              "      <td>0.000000</td>\n",
              "      <td>0.030000</td>\n",
              "    </tr>\n",
              "    <tr>\n",
              "      <th>25%</th>\n",
              "      <td>44.750000</td>\n",
              "      <td>2.000000</td>\n",
              "      <td>159.980000</td>\n",
              "    </tr>\n",
              "    <tr>\n",
              "      <th>50%</th>\n",
              "      <td>89.500000</td>\n",
              "      <td>3.000000</td>\n",
              "      <td>319.175000</td>\n",
              "    </tr>\n",
              "    <tr>\n",
              "      <th>75%</th>\n",
              "      <td>134.250000</td>\n",
              "      <td>4.000000</td>\n",
              "      <td>548.977500</td>\n",
              "    </tr>\n",
              "    <tr>\n",
              "      <th>max</th>\n",
              "      <td>179.000000</td>\n",
              "      <td>7.000000</td>\n",
              "      <td>8329.960000</td>\n",
              "    </tr>\n",
              "  </tbody>\n",
              "</table>\n",
              "</div>"
            ],
            "text/plain": [
              "                      step            age         amount\n",
              "fraud                                                   \n",
              "0     count  587443.000000  587443.000000  587443.000000\n",
              "      mean       95.054077       3.014790      31.847230\n",
              "      std        51.038755       1.336325      31.470876\n",
              "      min         0.000000       0.000000       0.000000\n",
              "      25%        52.000000       2.000000      13.590000\n",
              "      50%        97.000000       3.000000      26.610000\n",
              "      75%       139.000000       4.000000      41.895000\n",
              "      max       179.000000       7.000000    2144.860000\n",
              "1     count    7200.000000    7200.000000    7200.000000\n",
              "      mean       89.500000       2.962083     530.926551\n",
              "      std        51.964331       1.298414     835.587112\n",
              "      min         0.000000       0.000000       0.030000\n",
              "      25%        44.750000       2.000000     159.980000\n",
              "      50%        89.500000       3.000000     319.175000\n",
              "      75%       134.250000       4.000000     548.977500\n",
              "      max       179.000000       7.000000    8329.960000"
            ]
          },
          "metadata": {
            "tags": []
          },
          "execution_count": 14
        }
      ]
    },
    {
      "cell_type": "markdown",
      "metadata": {
        "id": "t1X6KbFx3RFs"
      },
      "source": [
        "Посмотрим на сотношение количества нормальных и фродовых сделок в общем количестве транзакций, а также в общей сумме транзакций"
      ]
    },
    {
      "cell_type": "code",
      "metadata": {
        "colab": {
          "base_uri": "https://localhost:8080/",
          "height": 305
        },
        "id": "umxNc9ie3Id4",
        "outputId": "727448bb-317f-44e6-d048-b029af8f3cf2"
      },
      "source": [
        "fraud_part = df.groupby('fraud')[['fraud','amount']].agg({'fraud': lambda x: round(x.count()/df['fraud'].count()*100, 2),\n",
        "                                                          'amount': lambda x: round(x.sum()/df['amount'].count()*100, 2)\n",
        "                                                         })\n",
        "clr = ['#008fd5', '#e50000']\n",
        "fig, axes = plt.subplots(nrows=1, ncols=2, figsize=(10,4))\n",
        "axes[0].pie(x=fraud_part['fraud'], radius=1, startangle=70, colors = clr, wedgeprops={'edgecolor': 'black'}, \n",
        "            autopct='%2.2f%%', pctdistance=1.2, explode=(0, 0), shadow=False)\n",
        "axes[1].pie(x=fraud_part['amount'], radius=1, startangle=70, colors = clr, wedgeprops={'edgecolor': 'black'}, \n",
        "            autopct='%2.2f%%', pctdistance=1.3, explode=(0, 0), shadow=False)\n",
        "axes[0].set_title('Cотношение количества нормальных \\nи фродовых сделок в общем количестве транзакций', fontsize='medium') \n",
        "axes[1].set_title('Cотношение объемов нормальных \\nи фродовых сделок в общей сумме транзакций', fontsize='medium') \n",
        "fig.legend(loc='lower center', labels=['not fraud', 'fraud'], fontsize='medium')\n",
        "plt.show()\n"
      ],
      "execution_count": null,
      "outputs": [
        {
          "output_type": "display_data",
          "data": {
            "image/png": "[encoded data removed]",
            "text/plain": [
              "<Figure size 720x288 with 2 Axes>"
            ]
          },
          "metadata": {
            "tags": []
          }
        }
      ]
    },
    {
      "cell_type": "markdown",
      "metadata": {
        "id": "FGZF9jhWrMTq"
      },
      "source": [
        "*Данные по обычным и фродовым транзакциям в представленном датасете несбалансированы, это необходимо учесть при построении модели.*\n"
      ]
    },
    {
      "cell_type": "markdown",
      "metadata": {
        "id": "ywJF5e2M8It3"
      },
      "source": [
        "### Оценка данных в разрезе распределения сумм транзаций."
      ]
    },
    {
      "cell_type": "code",
      "metadata": {
        "id": "FD_oynKkUCCo"
      },
      "source": [
        "# Функция для вычисления порога для выбросов Q3 + 1.5*IQR\n",
        "\n",
        "from scipy.stats import iqr\n",
        "\n",
        "def up_border(arr):\n",
        "  IQR_ = iqr(arr)\n",
        "  Q_ = arr.quantile([0.75])\n",
        "  ub = Q_.iloc[0] + 1.5*IQR_\n",
        "  return ub"
      ],
      "execution_count": null,
      "outputs": []
    },
    {
      "cell_type": "code",
      "metadata": {
        "colab": {
          "base_uri": "https://localhost:8080/",
          "height": 354
        },
        "id": "ESx9Tu5PEcOH",
        "outputId": "5f030cc9-138b-423b-bcbc-e6e2b59f8539"
      },
      "source": [
        "up_border_0 = up_border(df[df['fraud']==0]['amount'])  \n",
        "up_border_1 = up_border(df[df['fraud']==1]['amount'])\n",
        "Q1_1 = df[df['fraud']==1]['amount'].quantile([0.25, 0.75]).iloc[0] \n",
        "\n",
        "clr_ = ['#008fd5', '#e50000']\n",
        "fig, axes = plt.subplots(figsize=(12,5))\n",
        "\n",
        "axes.grid(axis='x', which='both', alpha=1)\n",
        "axes.set_axisbelow(True) \n",
        "axes.set_title('Распределение обычных и мошенических транзакций по суммам', pad = 10)\n",
        "sns.boxplot(data=df, y='fraud', x='amount',  palette=clr_, orient='h', width=0.5, dodge=True, fliersize=3, linewidth=1)\n",
        "axes.xaxis.set_major_locator(ticker.MultipleLocator(250))\n",
        "plt.text(100, -0.2, s=f'Q3+1.5*IQR={round(up_border_0,2)}', fontsize=8, bbox=dict(edgecolor='black', facecolor='#fdfdfe', alpha=0.5))\n",
        "plt.text(1000, 0.8, s=f'Q3+1.5*IQR={round(up_border_1,2)}', fontsize=8, bbox=dict(edgecolor='black', facecolor='#fdfdfe', alpha=0.5))\n",
        "plt.text(95, 0.65, s=f'Q1={round(Q1_1,2)}', fontsize=8, bbox=dict(edgecolor='black', facecolor='#fdfdfe', alpha=0.5))\n",
        "plt.xlim(right=2500)\n",
        "plt.show()"
      ],
      "execution_count": null,
      "outputs": [
        {
          "output_type": "display_data",
          "data": {
            "image/png": "[encoded data removed]",
            "text/plain": [
              "<Figure size 864x360 with 1 Axes>"
            ]
          },
          "metadata": {
            "tags": [],
            "needs_background": "light"
          }
        }
      ]
    },
    {
      "cell_type": "markdown",
      "metadata": {
        "id": "dminOF9yPxJi"
      },
      "source": [
        "*Суммы фродовых транзакций имеют большой разброс. Характерным признаком мошенической сделки является значительное превышение суммы фрода не только над средней величиной обычной транзакции, но и над величиной наблюдаемого максимума.*"
      ]
    },
    {
      "cell_type": "markdown",
      "metadata": {
        "id": "Yd5Yvq5o89Yt"
      },
      "source": [
        "Посмотрим на изменение объемов обычных и мошеннических сделок во времени."
      ]
    },
    {
      "cell_type": "code",
      "metadata": {
        "colab": {
          "base_uri": "https://localhost:8080/"
        },
        "id": "T_joJg8YBLeg",
        "outputId": "5480a275-55c3-4ef0-89d5-fb5ce7b99b51"
      },
      "source": [
        "df[df['fraud']==1].groupby(['step'])['amount'].mean().describe()"
      ],
      "execution_count": null,
      "outputs": [
        {
          "output_type": "execute_result",
          "data": {
            "text/plain": [
              "count     180.000000\n",
              "mean      530.926551\n",
              "std       158.754757\n",
              "min       242.305000\n",
              "25%       411.277500\n",
              "50%       508.592875\n",
              "75%       651.674313\n",
              "max      1031.826000\n",
              "Name: amount, dtype: float64"
            ]
          },
          "metadata": {
            "tags": []
          },
          "execution_count": 19
        }
      ]
    },
    {
      "cell_type": "code",
      "metadata": {
        "colab": {
          "base_uri": "https://localhost:8080/",
          "height": 354
        },
        "id": "3uDc4NTN3Y1q",
        "outputId": "244d7512-d3ed-45a6-b4ec-b78ae223a972"
      },
      "source": [
        "fig, axes = plt.subplots(figsize=(12,5))\n",
        "\n",
        "axes.grid(axis='x', which='both', alpha=1)\n",
        "axes.set_axisbelow(True) \n",
        "axes.set_title('Распределение суммарных объемов обычных и мошенических транзакций во времени', pad = 10)\n",
        "df[df['fraud']==0].groupby(['step'])['amount'].sum().plot(label='no fraud')\n",
        "df[df['fraud']==1].groupby(['step'])['amount'].sum().plot(label='fraud')\n",
        "axes.set_xlabel('period, days')\n",
        "axes.set_ylabel('amount')\n",
        "axes.legend()\n",
        "\n",
        "plt.show()"
      ],
      "execution_count": null,
      "outputs": [
        {
          "output_type": "display_data",
          "data": {
            "image/png": "[encoded data removed]",
            "text/plain": [
              "<Figure size 864x360 with 1 Axes>"
            ]
          },
          "metadata": {
            "tags": [],
            "needs_background": "light"
          }
        }
      ]
    },
    {
      "cell_type": "markdown",
      "metadata": {
        "id": "tNylgqdEAMFf"
      },
      "source": [
        "*На протяжении рассматриваемого периода наблюдается рост совокупного объема обычных транзакций, обусловленный увеличением их количества, среднедневная сумма транзакции, при этом, не увеличивается, колеблется в диапазоне 30-35 у.е.*\n",
        "\n",
        "*Количество мошеннических транзакций на протяжении исследуемого периода остается постоянным, как и их среднедневная величина, которая имеет бОльшую волатильность, по сравнению с обычными транзакциями (диапазон изменений 530-1032 у.е.)*"
      ]
    },
    {
      "cell_type": "markdown",
      "metadata": {
        "id": "pmgp_4TPsuBp"
      },
      "source": [
        "Проведем анализ мошеннических сделок в разрезе различных категориальных признаков:"
      ]
    },
    {
      "cell_type": "markdown",
      "metadata": {
        "id": "JCqif_Y-6q97"
      },
      "source": [
        "### Оценка данных в разрезе категорий пол/возраст"
      ]
    },
    {
      "cell_type": "code",
      "metadata": {
        "id": "U7GKVNZdAPoK"
      },
      "source": [
        "clr=sns.color_palette('Spectral_r', n_colors=15)"
      ],
      "execution_count": null,
      "outputs": []
    },
    {
      "cell_type": "code",
      "metadata": {
        "colab": {
          "base_uri": "https://localhost:8080/",
          "height": 334
        },
        "id": "GoRCX-sXlsAi",
        "outputId": "83cda3ea-3ce3-42a3-f612-681ad9b7597b"
      },
      "source": [
        "age_df = df[df['fraud']==1].groupby('age')['age'].count()\n",
        "gender_df = df[df['fraud']==1].groupby('gender')['gender'].count()\n",
        "\n",
        "fig, axes = plt.subplots(nrows=1, ncols=2, figsize=(14,8))\n",
        "plt.subplots_adjust(left=None, bottom=None, right=None, top=None, wspace=1.2, hspace=0.5)\n",
        "\n",
        "axes[0].set_title('Распределение фродовых транзакций\\n по возрасту клиента', fontsize='medium', pad = 30) \n",
        "axes[0].pie(x=age_df, radius=1, startangle=70, colors=clr, wedgeprops={'edgecolor': 'black'}, textprops={'fontsize':8},\n",
        "            autopct='%2.1f%%', explode=[0.1]*len(age_df), pctdistance=1.2, shadow=False)\n",
        "age_ = {0:'<= 18', 1: '19-25', 2: '26-35', 3: '36-45', 4: '46-55', 5: '56-65', 6: '> 65', 7: 'Неизвестно'}\n",
        "axes[0].legend(labels=age_.values(), bbox_to_anchor=(1.2, 1))\n",
        "\n",
        "axes[1].pie(x=gender_df, radius=1, startangle=70, colors=clr, wedgeprops={'edgecolor': 'black'}, textprops={'fontsize':8},\n",
        "            autopct='%2.1f%%', explode=[0.1]*len(gender_df), pctdistance=1.2, shadow=False)\n",
        "axes[1].set_title('Распределение фродовых транзакций\\n по полу клиента', fontsize='medium', pad = 30) \n",
        "axes[1].legend(labels=gender_df.index, bbox_to_anchor=(1.2, 1))\n",
        "\n",
        "plt.show()"
      ],
      "execution_count": null,
      "outputs": [
        {
          "output_type": "display_data",
          "data": {
            "image/png": "[encoded data removed]",
            "text/plain": [
              "<Figure size 1008x576 with 2 Axes>"
            ]
          },
          "metadata": {
            "tags": []
          }
        }
      ]
    },
    {
      "cell_type": "markdown",
      "metadata": {
        "id": "SVGDn4CbnxwK"
      },
      "source": [
        "*Для различных возрастных категорий нет четко выраженной закономерности между случаями мошенничества и немошенничества. Наибольшая доля фродовых транзакий (76,6%) приходится на возрастной диапазон с 26 до 55 лет*. \n",
        "<br>\n",
        "\n",
        "*В категории \"пол\" преобладают транзакции совершенные от лица женщин, однако и здесь нельзя сделать однозначный вывод о взаимосвязи данного признака и факта мошенничества. Доля организаций в мошенических сделках 0,1%, что позволяет утверждать, что транзакции совершенные от лица компаний в большинстве случаев мошенническими не являются.*\n"
      ]
    },
    {
      "cell_type": "markdown",
      "metadata": {
        "id": "znFPDJ7CXSYM"
      },
      "source": [
        "Проведем оценку по паре признаков пол/возраст.\n"
      ]
    },
    {
      "cell_type": "code",
      "metadata": {
        "colab": {
          "base_uri": "https://localhost:8080/",
          "height": 526
        },
        "id": "sWOmj1-o-tOs",
        "outputId": "d79287cc-f4f3-43be-9b5a-3ea0f7d6ad39"
      },
      "source": [
        "z= df[df['fraud']==1].groupby('age_gender')['age_gender'].count().sort_values(ascending=False)\n",
        "clr_ = ['#008fd5', '#e50000']\n",
        "fig, axes = plt.subplots(nrows=1, ncols=2, figsize=(20,8))\n",
        "\n",
        "axes[0].grid(axis='y', which='both', alpha=1)\n",
        "axes[0].set_axisbelow(True) \n",
        "plt.subplots_adjust(left=None, bottom=None, right=None, top=None, wspace=0.2, hspace=0.5)\n",
        "axes[0].set_title('Распределение сумм фродовых транзакций', fontsize='medium', pad = 20) \n",
        "sns.barplot(data=df, x='age_gender', y='amount', hue='fraud', order=z.index, palette=clr_, edgecolor='black', ax=axes[0])\n",
        "axes[0].yaxis.set_major_locator(ticker.MultipleLocator(100))\n",
        "\n",
        "axes[1].grid(axis='y', which='both', alpha=1)\n",
        "axes[1].set_axisbelow(True) \n",
        "axes[1].set_title('Количество фродовых транзакций', fontsize='medium', pad = 20) \n",
        "sns.countplot(data=df[df['fraud']==1], x='age_gender', order=z.index, color=clr_[1], edgecolor='black', ax=axes[1])\n",
        "axes[1].yaxis.set_major_locator(ticker.MultipleLocator(100))\n",
        "age_ = '0:  до 18 лет\\n1:  19-25 лет\\n2:  26-35 лет\\n3:  36-45 лет\\n4:  46-55 лет\\n5:  56-65 лет\\n6:  > 65 лет\\n7:  Неизвестно\\n\\nF:  Женщины\\nM: Мужчины\\nE:  Организации'\n",
        "plt.text(11, 1100, s=age_, fontsize=10, bbox=dict(edgecolor='black', facecolor='#fdfdfe', alpha=0.8))\n",
        "\n",
        "plt.show()"
      ],
      "execution_count": null,
      "outputs": [
        {
          "output_type": "display_data",
          "data": {
            "image/png": "[encoded data removed]",
            "text/plain": [
              "<Figure size 1440x576 with 2 Axes>"
            ]
          },
          "metadata": {
            "tags": [],
            "needs_background": "light"
          }
        }
      ]
    },
    {
      "cell_type": "markdown",
      "metadata": {
        "id": "uyIeJnQbXqrA"
      },
      "source": [
        "*Наибольшее количество мошеннических транзакций было сделано от лица женщин в возрасте от 26 до 45 лет. Наиболее крупные по суммам транзации совершены от лица мужчин в возрасте до 18 лет, при этом, это были единичные случаи.*"
      ]
    },
    {
      "cell_type": "markdown",
      "metadata": {
        "id": "v9GGZVM0bI0n"
      },
      "source": [
        "### Оценка данных в разрезе отраслевых категорий."
      ]
    },
    {
      "cell_type": "code",
      "metadata": {
        "colab": {
          "base_uri": "https://localhost:8080/",
          "height": 315
        },
        "id": "3lepjOaLkXqK",
        "outputId": "15c8d9eb-391e-47bb-9c6a-3d1fba7d4dc4"
      },
      "source": [
        "fraud_df = df[df['fraud']==1].groupby('category')['category'].count()\n",
        "all_df = df.groupby('category')['category'].count()\n",
        "\n",
        "fig, axes = plt.subplots(nrows=1, ncols=2, figsize=(14,8))\n",
        "plt.subplots_adjust(left=None, bottom=None, right=None, top=None, wspace=1.5, hspace=0.5)\n",
        "\n",
        "axes[0].set_title('Распределение фродовых транзакций по категориям товаров/услуг', fontsize='medium', pad = 30) \n",
        "axes[0].pie(x=fraud_df, radius=1, startangle=70, colors=clr, wedgeprops={'edgecolor': 'black'}, textprops={'fontsize':8},\n",
        "            autopct='%2.1f%%', explode=[0.1]*len(fraud_df), pctdistance=1.2, shadow=False)\n",
        "total = sum(fraud_df)\n",
        "lbls_category = [f\"{n} ({v/total:.1%})\" for n,v in zip(fraud_df.index, fraud_df)]\n",
        "axes[0].legend(labels=lbls_category, bbox_to_anchor=(1.2, 1))\n",
        "\n",
        "axes[1].set_title('Распределение всех транзакций по категориям товаров/услуг', fontsize='medium', pad = 30) \n",
        "axes[1].pie(x=all_df, radius=1, startangle=70, colors=clr, wedgeprops={'edgecolor': 'black'}, textprops={'fontsize':8},\n",
        "            explode=[0.2]*len(all_df), pctdistance=1.2, shadow=False)\n",
        "total = sum(all_df)\n",
        "lbls_category = [f\"{n} ({v/total:.1%})\" for n,v in zip(all_df.index, all_df)]\n",
        "axes[1].legend(labels=lbls_category, bbox_to_anchor=(1.2, 1))\n",
        "\n",
        "plt.show()"
      ],
      "execution_count": null,
      "outputs": [
        {
          "output_type": "display_data",
          "data": {
            "image/png": "[encoded data removed]",
            "text/plain": [
              "<Figure size 1008x576 with 2 Axes>"
            ]
          },
          "metadata": {
            "tags": []
          }
        }
      ]
    },
    {
      "cell_type": "code",
      "metadata": {
        "colab": {
          "base_uri": "https://localhost:8080/",
          "height": 512
        },
        "id": "uya9HBXPX_zc",
        "outputId": "ee599748-6db4-4346-e737-6946a85ba6be"
      },
      "source": [
        "clr_ = ['#008fd5', '#e50000']\n",
        "fig, axes = plt.subplots(figsize=(12,6))\n",
        "\n",
        "axes.grid(axis='y', which='both', alpha=1)\n",
        "axes.set_axisbelow(True) \n",
        "axes.set_title('Распределение транзакций по суммам в различных отраслевых категориях', pad = 10)\n",
        "bp = sns.boxplot(data=df, x='category', y='amount', hue='fraud', fliersize=3, linewidth=0.5, palette=clr_, ax=axes)\n",
        "plt.xticks(rotation=90)\n",
        "axes.yaxis.set_minor_locator(ticker.MultipleLocator(500))\n",
        "axes.yaxis.set_major_locator(ticker.MultipleLocator(1000))\n",
        "axes.set_xlabel('Категории товаров/услуг')\n",
        "axes.set_ylabel('Суммарный объем транзакций')\n",
        "legend_labels, _= axes.get_legend_handles_labels()\n",
        "axes.legend(legend_labels, ['not fraud', 'fraud'], loc='upper left')\n",
        "plt.show()"
      ],
      "execution_count": null,
      "outputs": [
        {
          "output_type": "display_data",
          "data": {
            "image/png": "[encoded data removed]",
            "text/plain": [
              "<Figure size 864x432 with 1 Axes>"
            ]
          },
          "metadata": {
            "tags": [],
            "needs_background": "light"
          }
        }
      ]
    },
    {
      "cell_type": "markdown",
      "metadata": {
        "id": "WfVGWFUq1h9C"
      },
      "source": [
        "*Общая тенденция превышения суммы фродовой транзакции над величиной наблюдаемого максимума обычной транзакции сохраняется для каждой категории товаров и услуг, где был отмечен фрод.* \n",
        "\n",
        "*В категориях \"контент\", \"питание\" и \"транспорт\" мошеннические транзакции отсутствуют, при этом на долю покупок в категории \"транспорт\" приходится почти 85% всей выборки.*\n"
      ]
    },
    {
      "cell_type": "code",
      "metadata": {
        "colab": {
          "base_uri": "https://localhost:8080/",
          "height": 418
        },
        "id": "g9Rt6mES_ZLm",
        "outputId": "38f3450d-48b9-47f9-e51c-955f8b7afe82"
      },
      "source": [
        "df_cat = df.groupby('category')[['fraud','category']].agg({'fraud': lambda x: round(x.sum()/x.count()*100, 2),\n",
        "                                                           'category': lambda x: 100\n",
        "                                                          })\n",
        "df_cat.sort_values(by='fraud', inplace=True)\n",
        "fig, axes = plt.subplots(figsize=(10,6))\n",
        "\n",
        "axes.grid(axis='y', which='both', alpha=1)\n",
        "axes.set_axisbelow(True) \n",
        "axes.set_title('Распределение транзакций по количеству случаев мошенничества в различных отраслевых категориях', pad = 20)\n",
        "\n",
        "sns.barplot(data=df_cat, x='category', y=df_cat.index,\n",
        "            orient='h', color='#008fd5', label='not fraud', alpha=0.5, ax=axes)\n",
        "sns.barplot(data=df_cat, x='fraud', y=df_cat.index,\n",
        "            orient='h', color='#e50000', label='fraud', alpha=1, ax=axes)\n",
        "    \n",
        "axes.set_xlabel('Доля в общем объеме транзакций, %')\n",
        "axes.set_ylabel('Категории товаров/услуг')\n",
        "legend_labels, _= axes.get_legend_handles_labels()\n",
        "axes.legend(legend_labels, ['not fraud', 'fraud'], loc='upper right')\n",
        "\n",
        "plt.show()"
      ],
      "execution_count": null,
      "outputs": [
        {
          "output_type": "display_data",
          "data": {
            "image/png": "[encoded data removed]",
            "text/plain": [
              "<Figure size 720x432 with 1 Axes>"
            ]
          },
          "metadata": {
            "tags": [],
            "needs_background": "light"
          }
        }
      ]
    },
    {
      "cell_type": "markdown",
      "metadata": {
        "id": "4SSAWfOF_lYx"
      },
      "source": [
        "*В категориях \"спорт и игрушки\", \"досуг\" и \"путешествия\" половина и более транзакций - мошеннические.*"
      ]
    },
    {
      "cell_type": "markdown",
      "metadata": {
        "id": "83r0u0nsRRkx"
      },
      "source": [
        "### Оценка транзакций в разрезе контрагентов сделки\n",
        "\n",
        " Для каждого покупателя и продавца вычислим долю фродовых сделок в его истории"
      ]
    },
    {
      "cell_type": "code",
      "metadata": {
        "id": "YegsuVpaL35v"
      },
      "source": [
        "df['cust_fraud_part'] = df.groupby(['customer'])['fraud'].transform(lambda x: x.sum()/x.count())\n",
        "df['merch_fraud_part'] = df.groupby(['merchant'])['fraud'].transform(lambda x: x.sum()/x.count())"
      ],
      "execution_count": null,
      "outputs": []
    },
    {
      "cell_type": "code",
      "metadata": {
        "colab": {
          "base_uri": "https://localhost:8080/"
        },
        "id": "wcG476cRdNXO",
        "outputId": "a9c1d04f-5376-4b7b-d5e9-e58de418b040"
      },
      "source": [
        "ccf1 = df[df['cust_fraud_part']>0.05]['customer'].nunique()/df['customer'].nunique()*100\n",
        "ccf2 = df[df['cust_fraud_part']>0.20]['customer'].nunique()/df['customer'].nunique()*100\n",
        "cmf = df[df['merch_fraud_part']>0.5]['merchant'].nunique()/df['merchant'].nunique()*100\n",
        "ccf1, ccf2, cmf\n"
      ],
      "execution_count": null,
      "outputs": [
        {
          "output_type": "execute_result",
          "data": {
            "text/plain": [
              "(9.48443579766537, 2.772373540856031, 22.0)"
            ]
          },
          "metadata": {
            "tags": []
          },
          "execution_count": 29
        }
      ]
    },
    {
      "cell_type": "code",
      "metadata": {
        "colab": {
          "base_uri": "https://localhost:8080/",
          "height": 365
        },
        "id": "v6yr41VQTB-q",
        "outputId": "0c1775ad-a71c-4572-ade6-6a858187709c"
      },
      "source": [
        "dc = df[df['cust_fraud_part']>0.05].groupby(['customer'])['cust_fraud_part'].mean()\n",
        "fig, axes = plt.subplots(figsize=(10,5))\n",
        "axes.grid(axis='y', which='both', alpha=1)\n",
        "axes.set_axisbelow(True) \n",
        "axes.set_title('Распределение количества покупателей\\n с долей мошеннических транзакций в их истории более 5%')\n",
        "sns.histplot(data=dc, x=dc.values, kde=True, stat=\"count\", bins=18, alpha= 0.4, ax=axes)\n",
        "axes.xaxis.set_major_locator(ticker.MultipleLocator(0.05))\n",
        "axes.yaxis.set_major_locator(ticker.MultipleLocator(10))\n",
        "axes.set_xlabel('Доля мошеннических транзакций')\n",
        "plt.show()"
      ],
      "execution_count": null,
      "outputs": [
        {
          "output_type": "display_data",
          "data": {
            "image/png": "[encoded data removed]",
            "text/plain": [
              "<Figure size 720x360 with 1 Axes>"
            ]
          },
          "metadata": {
            "tags": [],
            "needs_background": "light"
          }
        }
      ]
    },
    {
      "cell_type": "markdown",
      "metadata": {
        "id": "Dg_2HN0JePwM"
      },
      "source": [
        "*У 9,5% покупателей из всех сделанных ими транзакций в 5% случаев зафиксировано мошенничество, а у 2,7% покупателей - случаев мошенничества более 20%. Транзакции, поступающие от покупателей с большой долей мошенничества в истории, требуют дополнительной проверки.*"
      ]
    },
    {
      "cell_type": "code",
      "metadata": {
        "colab": {
          "base_uri": "https://localhost:8080/",
          "height": 365
        },
        "id": "8w9c3xQ3ErI6",
        "outputId": "8b3fbd88-2c0a-4299-c27d-2fbb19925bf9"
      },
      "source": [
        "dc = df[df['merch_fraud_part']>0.1].groupby(['merchant'])['merch_fraud_part'].mean()\n",
        "fig, axes = plt.subplots(figsize=(10,5))\n",
        "axes.grid(axis='y', which='both', alpha=1)\n",
        "axes.set_axisbelow(True) \n",
        "axes.set_title('Распределение количества продавцов\\n с долей мошеннических транзакций в их истории более 10%')\n",
        "sns.histplot(data=dc, x=dc.values, kde=True, stat=\"count\", bins=18, alpha= 0.4, ax=axes)\n",
        "axes.xaxis.set_major_locator(ticker.MultipleLocator(0.05))\n",
        "axes.yaxis.set_major_locator(ticker.MultipleLocator(1))\n",
        "axes.set_xlabel('Доля мошеннических транзакций')\n",
        "plt.show()"
      ],
      "execution_count": null,
      "outputs": [
        {
          "output_type": "display_data",
          "data": {
            "image/png": "[encoded data removed]",
            "text/plain": [
              "<Figure size 720x360 with 1 Axes>"
            ]
          },
          "metadata": {
            "tags": [],
            "needs_background": "light"
          }
        }
      ]
    },
    {
      "cell_type": "markdown",
      "metadata": {
        "id": "cjqEkx7c0CSk"
      },
      "source": [
        "*У 40% продавцов на протяжении рассматриваемого периода не было мошеннических транзакций, а у 20% продавцов доля фрода в истории составила более 50%.*\n",
        "\n",
        "*При анализе транзакции, в случае возникновения подозрений на мошенничество, наличие в качестве контрагента продавцов с высокой долей фрода в истории может рассматриваться как дополнительный аргумент в пользу отнесения сделки к мошеннической.*"
      ]
    },
    {
      "cell_type": "code",
      "metadata": {
        "id": "IXOuLzI_6Kpd"
      },
      "source": [
        ""
      ],
      "execution_count": null,
      "outputs": []
    },
    {
      "cell_type": "markdown",
      "metadata": {
        "id": "jCfA0ejLc2rb"
      },
      "source": [
        "**Вывод:** \n",
        "\n",
        "*Исходные данные имеют выраженный дисбаланс классов (1,21% фактов мошенничества против 98,79% обычных транзакций).*\n",
        "\n",
        "*Мошеннические транзакции, чаще чем в других случаях, осуществляются от лица женщин в возрасте от 26 до 45 лет.*\n",
        "\n",
        "*Наиболее часто фродовые покупки происходят в категориях \"спорт и игрушки\", \"здоровье\", \"велнес и красота\". В категориях \"спорт и игрушки\", \"досуг\" и  \"путешествия\" половина и более транзакций - мошеннические.*\n",
        "\n",
        "*Суммы фродовых транзакций имеют большой разброс. Для каждой категории характерным признаком мошенической сделки является значительное превышение суммы фрода над средней величиной немошеннической транзакции. Во всех категориях, за исключением категории \"путешествия\", суммы немошеннических сделок не превышают 500 у.е., тогда как размер фродовой транзакции чаще находится в интервале от 500 до 2000 у.е. В категории \"путешествия\" платежи по немошенническим сделкам находятся в пределах 2200 у.е., более значительные суммы являются фродовыми транзакциями.*\n",
        "<br><br><br>\n",
        "*В качестве базового решения для детекции фактов мошенничества можно ввести порог отсечения по сумме сделки для каждой категории товаров/услуг. Если сумма транзакции попадает в зону \"выбросов\" для нормальных сделок, т.е. превышает величину $Q3 + 1.5*IQR~$ для нормальны сделок, то такая сделка должна быть помечена как потенциально мошенническая.*\n",
        "\n",
        "*Также классифицировать транзакцию в мошенническую можно в зависимости от участия в сделке контрагентов с высокой долей фрода в истории (по созданным заранее \"черным спискам\").* \n",
        "\n",
        "*При сомнительной транзакции, дополнительным аргументом в пользу отнесения ее к мошеннической будет выступать принадлежность транзакции к группам с повышенным риском фрода (по полу/возрасту/отраслевой категории).* \n",
        "\n",
        "*В качестве метрики для поставленной задачи целесообразно использовать метрику $Recall$, так как выявление факта мошенничества важнее для банка, поскольку пропуск фрода может привести к гораздо большим издержкам, по сравнению с мерами по его предотвращению.*\n"
      ]
    },
    {
      "cell_type": "markdown",
      "metadata": {
        "id": "Owrk4L2Cjdu5"
      },
      "source": [
        "### Проверка эффективности детекции фрода на основе сделанной эвристики"
      ]
    },
    {
      "cell_type": "code",
      "metadata": {
        "colab": {
          "base_uri": "https://localhost:8080/",
          "height": 204
        },
        "id": "LYaUbWQXWwtw",
        "outputId": "28d1fe03-5a86-4fb4-dbc1-19b3c2bed1f0"
      },
      "source": [
        "df_evr = df.copy()\n",
        "df_evr.head()"
      ],
      "execution_count": null,
      "outputs": [
        {
          "output_type": "execute_result",
          "data": {
            "text/html": [
              "<div>\n",
              "<style scoped>\n",
              "    .dataframe tbody tr th:only-of-type {\n",
              "        vertical-align: middle;\n",
              "    }\n",
              "\n",
              "    .dataframe tbody tr th {\n",
              "        vertical-align: top;\n",
              "    }\n",
              "\n",
              "    .dataframe thead th {\n",
              "        text-align: right;\n",
              "    }\n",
              "</style>\n",
              "<table border=\"1\" class=\"dataframe\">\n",
              "  <thead>\n",
              "    <tr style=\"text-align: right;\">\n",
              "      <th></th>\n",
              "      <th>step</th>\n",
              "      <th>customer</th>\n",
              "      <th>age</th>\n",
              "      <th>gender</th>\n",
              "      <th>merchant</th>\n",
              "      <th>category</th>\n",
              "      <th>amount</th>\n",
              "      <th>fraud</th>\n",
              "      <th>age_gender</th>\n",
              "      <th>cust_fraud_part</th>\n",
              "      <th>merch_fraud_part</th>\n",
              "    </tr>\n",
              "  </thead>\n",
              "  <tbody>\n",
              "    <tr>\n",
              "      <th>0</th>\n",
              "      <td>0</td>\n",
              "      <td>C1093826151</td>\n",
              "      <td>4</td>\n",
              "      <td>M</td>\n",
              "      <td>M348934600</td>\n",
              "      <td>es_transportation</td>\n",
              "      <td>4.55</td>\n",
              "      <td>0</td>\n",
              "      <td>4M</td>\n",
              "      <td>0.0</td>\n",
              "      <td>0.0</td>\n",
              "    </tr>\n",
              "    <tr>\n",
              "      <th>1</th>\n",
              "      <td>0</td>\n",
              "      <td>C352968107</td>\n",
              "      <td>2</td>\n",
              "      <td>M</td>\n",
              "      <td>M348934600</td>\n",
              "      <td>es_transportation</td>\n",
              "      <td>39.68</td>\n",
              "      <td>0</td>\n",
              "      <td>2M</td>\n",
              "      <td>0.0</td>\n",
              "      <td>0.0</td>\n",
              "    </tr>\n",
              "    <tr>\n",
              "      <th>2</th>\n",
              "      <td>0</td>\n",
              "      <td>C2054744914</td>\n",
              "      <td>4</td>\n",
              "      <td>F</td>\n",
              "      <td>M1823072687</td>\n",
              "      <td>es_transportation</td>\n",
              "      <td>26.89</td>\n",
              "      <td>0</td>\n",
              "      <td>4F</td>\n",
              "      <td>0.0</td>\n",
              "      <td>0.0</td>\n",
              "    </tr>\n",
              "    <tr>\n",
              "      <th>3</th>\n",
              "      <td>0</td>\n",
              "      <td>C1760612790</td>\n",
              "      <td>3</td>\n",
              "      <td>M</td>\n",
              "      <td>M348934600</td>\n",
              "      <td>es_transportation</td>\n",
              "      <td>17.25</td>\n",
              "      <td>0</td>\n",
              "      <td>3M</td>\n",
              "      <td>0.0</td>\n",
              "      <td>0.0</td>\n",
              "    </tr>\n",
              "    <tr>\n",
              "      <th>4</th>\n",
              "      <td>0</td>\n",
              "      <td>C757503768</td>\n",
              "      <td>5</td>\n",
              "      <td>M</td>\n",
              "      <td>M348934600</td>\n",
              "      <td>es_transportation</td>\n",
              "      <td>35.72</td>\n",
              "      <td>0</td>\n",
              "      <td>5M</td>\n",
              "      <td>0.0</td>\n",
              "      <td>0.0</td>\n",
              "    </tr>\n",
              "  </tbody>\n",
              "</table>\n",
              "</div>"
            ],
            "text/plain": [
              "   step     customer  age  ... age_gender cust_fraud_part merch_fraud_part\n",
              "0     0  C1093826151    4  ...         4M             0.0              0.0\n",
              "1     0   C352968107    2  ...         2M             0.0              0.0\n",
              "2     0  C2054744914    4  ...         4F             0.0              0.0\n",
              "3     0  C1760612790    3  ...         3M             0.0              0.0\n",
              "4     0   C757503768    5  ...         5M             0.0              0.0\n",
              "\n",
              "[5 rows x 11 columns]"
            ]
          },
          "metadata": {
            "tags": []
          },
          "execution_count": 320
        }
      ]
    },
    {
      "cell_type": "code",
      "metadata": {
        "colab": {
          "base_uri": "https://localhost:8080/",
          "height": 204
        },
        "id": "SGMzIZw8Q6Z0",
        "outputId": "308795ba-d51d-408e-806e-05f26fb76b3b"
      },
      "source": [
        "#  Разбиваем выборку на обучение и тест\n",
        "#  Столбцы, содержащие целевую переменную и производные данные не удаляем из датасета, \n",
        "#  так как они не участвуют в расчетах при детекции, но потребуюся для оценки эффективности алгоритма \n",
        "\n",
        "from sklearn import model_selection\n",
        "\n",
        "Yevr = df_evr['fraud']\n",
        "Xevr_train, Xevr_test, Yevr_train, Yevr_test = model_selection.train_test_split(df_evr, Yevr, test_size=0.3, stratify=Yevr)\n",
        "Xevr_test.head()"
      ],
      "execution_count": null,
      "outputs": [
        {
          "output_type": "execute_result",
          "data": {
            "text/html": [
              "<div>\n",
              "<style scoped>\n",
              "    .dataframe tbody tr th:only-of-type {\n",
              "        vertical-align: middle;\n",
              "    }\n",
              "\n",
              "    .dataframe tbody tr th {\n",
              "        vertical-align: top;\n",
              "    }\n",
              "\n",
              "    .dataframe thead th {\n",
              "        text-align: right;\n",
              "    }\n",
              "</style>\n",
              "<table border=\"1\" class=\"dataframe\">\n",
              "  <thead>\n",
              "    <tr style=\"text-align: right;\">\n",
              "      <th></th>\n",
              "      <th>step</th>\n",
              "      <th>customer</th>\n",
              "      <th>age</th>\n",
              "      <th>gender</th>\n",
              "      <th>merchant</th>\n",
              "      <th>category</th>\n",
              "      <th>amount</th>\n",
              "      <th>fraud</th>\n",
              "      <th>age_gender</th>\n",
              "      <th>cust_fraud_part</th>\n",
              "      <th>merch_fraud_part</th>\n",
              "    </tr>\n",
              "  </thead>\n",
              "  <tbody>\n",
              "    <tr>\n",
              "      <th>105756</th>\n",
              "      <td>38</td>\n",
              "      <td>C1360481565</td>\n",
              "      <td>5</td>\n",
              "      <td>F</td>\n",
              "      <td>M348934600</td>\n",
              "      <td>es_transportation</td>\n",
              "      <td>36.18</td>\n",
              "      <td>0</td>\n",
              "      <td>5F</td>\n",
              "      <td>0.016484</td>\n",
              "      <td>0.0</td>\n",
              "    </tr>\n",
              "    <tr>\n",
              "      <th>95440</th>\n",
              "      <td>35</td>\n",
              "      <td>C1928450094</td>\n",
              "      <td>2</td>\n",
              "      <td>M</td>\n",
              "      <td>M1823072687</td>\n",
              "      <td>es_transportation</td>\n",
              "      <td>28.68</td>\n",
              "      <td>0</td>\n",
              "      <td>2M</td>\n",
              "      <td>0.000000</td>\n",
              "      <td>0.0</td>\n",
              "    </tr>\n",
              "    <tr>\n",
              "      <th>168474</th>\n",
              "      <td>58</td>\n",
              "      <td>C1839662768</td>\n",
              "      <td>3</td>\n",
              "      <td>F</td>\n",
              "      <td>M348934600</td>\n",
              "      <td>es_transportation</td>\n",
              "      <td>35.88</td>\n",
              "      <td>0</td>\n",
              "      <td>3F</td>\n",
              "      <td>0.030534</td>\n",
              "      <td>0.0</td>\n",
              "    </tr>\n",
              "    <tr>\n",
              "      <th>61955</th>\n",
              "      <td>23</td>\n",
              "      <td>C959506480</td>\n",
              "      <td>1</td>\n",
              "      <td>F</td>\n",
              "      <td>M348934600</td>\n",
              "      <td>es_transportation</td>\n",
              "      <td>17.66</td>\n",
              "      <td>0</td>\n",
              "      <td>1F</td>\n",
              "      <td>0.000000</td>\n",
              "      <td>0.0</td>\n",
              "    </tr>\n",
              "    <tr>\n",
              "      <th>231674</th>\n",
              "      <td>78</td>\n",
              "      <td>C203802515</td>\n",
              "      <td>1</td>\n",
              "      <td>F</td>\n",
              "      <td>M1823072687</td>\n",
              "      <td>es_transportation</td>\n",
              "      <td>19.71</td>\n",
              "      <td>0</td>\n",
              "      <td>1F</td>\n",
              "      <td>0.000000</td>\n",
              "      <td>0.0</td>\n",
              "    </tr>\n",
              "  </tbody>\n",
              "</table>\n",
              "</div>"
            ],
            "text/plain": [
              "        step     customer  age  ... age_gender cust_fraud_part merch_fraud_part\n",
              "105756    38  C1360481565    5  ...         5F        0.016484              0.0\n",
              "95440     35  C1928450094    2  ...         2M        0.000000              0.0\n",
              "168474    58  C1839662768    3  ...         3F        0.030534              0.0\n",
              "61955     23   C959506480    1  ...         1F        0.000000              0.0\n",
              "231674    78   C203802515    1  ...         1F        0.000000              0.0\n",
              "\n",
              "[5 rows x 11 columns]"
            ]
          },
          "metadata": {
            "tags": []
          },
          "execution_count": 321
        }
      ]
    },
    {
      "cell_type": "code",
      "metadata": {
        "colab": {
          "base_uri": "https://localhost:8080/"
        },
        "id": "ZO9Q1_zvipO6",
        "outputId": "4546e433-d394-4324-8f00-f535e163d509"
      },
      "source": [
        "# вычисляем пороговое значение для суммы фрода по каждой отрасли (категории) на основе имеющейся статистики\n",
        "\n",
        "up_border_dict = {}\n",
        "for cat in Xevr_train['category'].unique():\n",
        "  up_border_dict[cat] = round(up_border(Xevr_train[(Xevr_train['fraud']==0) & (Xevr_train['category']==cat)]['amount']),2)\n",
        "up_border_dict"
      ],
      "execution_count": null,
      "outputs": [
        {
          "output_type": "execute_result",
          "data": {
            "text/plain": [
              "{'es_barsandrestaurants': 126.15,\n",
              " 'es_contents': 139.37,\n",
              " 'es_fashion': 185.48,\n",
              " 'es_food': 108.24,\n",
              " 'es_health': 318.79,\n",
              " 'es_home': 331.36,\n",
              " 'es_hotelservices': 318.43,\n",
              " 'es_hyper': 118.06,\n",
              " 'es_leisure': 142.22,\n",
              " 'es_otherservices': 234.29,\n",
              " 'es_sportsandtoys': 274.7,\n",
              " 'es_tech': 309.84,\n",
              " 'es_transportation': 77.35,\n",
              " 'es_travel': 1979.95,\n",
              " 'es_wellnessandbeauty': 170.58}"
            ]
          },
          "metadata": {
            "tags": []
          },
          "execution_count": 322
        }
      ]
    },
    {
      "cell_type": "code",
      "metadata": {
        "colab": {
          "base_uri": "https://localhost:8080/",
          "height": 204
        },
        "id": "D8O-GH_-YS1C",
        "outputId": "b2bb2ee6-0de7-4441-dbd8-1e4c6c8dc5a0"
      },
      "source": [
        "#  вносим данные в тестовый датасет для дальнейшей классификации\n",
        "#  с использованием рассчитанного порога\n",
        "\n",
        "evr_test = Xevr_test.copy()\n",
        "for cat in evr_test['category'].unique():\n",
        "  evr_test.loc[evr_test['category']==cat, 'category_up_border'] = up_border_dict[cat]\n",
        "evr_test.head()"
      ],
      "execution_count": null,
      "outputs": [
        {
          "output_type": "execute_result",
          "data": {
            "text/html": [
              "<div>\n",
              "<style scoped>\n",
              "    .dataframe tbody tr th:only-of-type {\n",
              "        vertical-align: middle;\n",
              "    }\n",
              "\n",
              "    .dataframe tbody tr th {\n",
              "        vertical-align: top;\n",
              "    }\n",
              "\n",
              "    .dataframe thead th {\n",
              "        text-align: right;\n",
              "    }\n",
              "</style>\n",
              "<table border=\"1\" class=\"dataframe\">\n",
              "  <thead>\n",
              "    <tr style=\"text-align: right;\">\n",
              "      <th></th>\n",
              "      <th>step</th>\n",
              "      <th>customer</th>\n",
              "      <th>age</th>\n",
              "      <th>gender</th>\n",
              "      <th>merchant</th>\n",
              "      <th>category</th>\n",
              "      <th>amount</th>\n",
              "      <th>fraud</th>\n",
              "      <th>age_gender</th>\n",
              "      <th>cust_fraud_part</th>\n",
              "      <th>merch_fraud_part</th>\n",
              "      <th>category_up_border</th>\n",
              "    </tr>\n",
              "  </thead>\n",
              "  <tbody>\n",
              "    <tr>\n",
              "      <th>105756</th>\n",
              "      <td>38</td>\n",
              "      <td>C1360481565</td>\n",
              "      <td>5</td>\n",
              "      <td>F</td>\n",
              "      <td>M348934600</td>\n",
              "      <td>es_transportation</td>\n",
              "      <td>36.18</td>\n",
              "      <td>0</td>\n",
              "      <td>5F</td>\n",
              "      <td>0.016484</td>\n",
              "      <td>0.0</td>\n",
              "      <td>77.35</td>\n",
              "    </tr>\n",
              "    <tr>\n",
              "      <th>95440</th>\n",
              "      <td>35</td>\n",
              "      <td>C1928450094</td>\n",
              "      <td>2</td>\n",
              "      <td>M</td>\n",
              "      <td>M1823072687</td>\n",
              "      <td>es_transportation</td>\n",
              "      <td>28.68</td>\n",
              "      <td>0</td>\n",
              "      <td>2M</td>\n",
              "      <td>0.000000</td>\n",
              "      <td>0.0</td>\n",
              "      <td>77.35</td>\n",
              "    </tr>\n",
              "    <tr>\n",
              "      <th>168474</th>\n",
              "      <td>58</td>\n",
              "      <td>C1839662768</td>\n",
              "      <td>3</td>\n",
              "      <td>F</td>\n",
              "      <td>M348934600</td>\n",
              "      <td>es_transportation</td>\n",
              "      <td>35.88</td>\n",
              "      <td>0</td>\n",
              "      <td>3F</td>\n",
              "      <td>0.030534</td>\n",
              "      <td>0.0</td>\n",
              "      <td>77.35</td>\n",
              "    </tr>\n",
              "    <tr>\n",
              "      <th>61955</th>\n",
              "      <td>23</td>\n",
              "      <td>C959506480</td>\n",
              "      <td>1</td>\n",
              "      <td>F</td>\n",
              "      <td>M348934600</td>\n",
              "      <td>es_transportation</td>\n",
              "      <td>17.66</td>\n",
              "      <td>0</td>\n",
              "      <td>1F</td>\n",
              "      <td>0.000000</td>\n",
              "      <td>0.0</td>\n",
              "      <td>77.35</td>\n",
              "    </tr>\n",
              "    <tr>\n",
              "      <th>231674</th>\n",
              "      <td>78</td>\n",
              "      <td>C203802515</td>\n",
              "      <td>1</td>\n",
              "      <td>F</td>\n",
              "      <td>M1823072687</td>\n",
              "      <td>es_transportation</td>\n",
              "      <td>19.71</td>\n",
              "      <td>0</td>\n",
              "      <td>1F</td>\n",
              "      <td>0.000000</td>\n",
              "      <td>0.0</td>\n",
              "      <td>77.35</td>\n",
              "    </tr>\n",
              "  </tbody>\n",
              "</table>\n",
              "</div>"
            ],
            "text/plain": [
              "        step     customer  ...  merch_fraud_part category_up_border\n",
              "105756    38  C1360481565  ...               0.0              77.35\n",
              "95440     35  C1928450094  ...               0.0              77.35\n",
              "168474    58  C1839662768  ...               0.0              77.35\n",
              "61955     23   C959506480  ...               0.0              77.35\n",
              "231674    78   C203802515  ...               0.0              77.35\n",
              "\n",
              "[5 rows x 12 columns]"
            ]
          },
          "metadata": {
            "tags": []
          },
          "execution_count": 323
        }
      ]
    },
    {
      "cell_type": "code",
      "metadata": {
        "id": "21t3JSiOBGfq"
      },
      "source": [
        "# создаем \"черные списки\" покупателей и продавцов на основе имеющейся статистики\n",
        "\n",
        "blacklist_cust = Xevr_train[Xevr_train['cust_fraud_part'] >= 0.5]['customer'].unique()\n",
        "blacklist_merch = Xevr_train[Xevr_train['merch_fraud_part'] >= 0.8]['merchant'].unique()"
      ],
      "execution_count": null,
      "outputs": []
    },
    {
      "cell_type": "code",
      "metadata": {
        "colab": {
          "base_uri": "https://localhost:8080/",
          "height": 204
        },
        "id": "hoZnp80vAF2x",
        "outputId": "050e05f3-fa1d-4542-db8f-3da1f091a83c"
      },
      "source": [
        "# классифицируем транзакции из тестовой выборки на основе сделанной эвристики\n",
        "\n",
        "evr_test.loc[(evr_test['amount'] > evr_test['category_up_border']) | \n",
        "              evr_test['merchant'].isin(blacklist_merch) |\n",
        "              evr_test['customer'].isin(blacklist_cust), 'fraud_evr'] = 1\n",
        "evr_test = evr_test.fillna(0)\n",
        "evr_test.head()"
      ],
      "execution_count": null,
      "outputs": [
        {
          "output_type": "execute_result",
          "data": {
            "text/html": [
              "<div>\n",
              "<style scoped>\n",
              "    .dataframe tbody tr th:only-of-type {\n",
              "        vertical-align: middle;\n",
              "    }\n",
              "\n",
              "    .dataframe tbody tr th {\n",
              "        vertical-align: top;\n",
              "    }\n",
              "\n",
              "    .dataframe thead th {\n",
              "        text-align: right;\n",
              "    }\n",
              "</style>\n",
              "<table border=\"1\" class=\"dataframe\">\n",
              "  <thead>\n",
              "    <tr style=\"text-align: right;\">\n",
              "      <th></th>\n",
              "      <th>step</th>\n",
              "      <th>customer</th>\n",
              "      <th>age</th>\n",
              "      <th>gender</th>\n",
              "      <th>merchant</th>\n",
              "      <th>category</th>\n",
              "      <th>amount</th>\n",
              "      <th>fraud</th>\n",
              "      <th>age_gender</th>\n",
              "      <th>cust_fraud_part</th>\n",
              "      <th>merch_fraud_part</th>\n",
              "      <th>category_up_border</th>\n",
              "      <th>fraud_evr</th>\n",
              "    </tr>\n",
              "  </thead>\n",
              "  <tbody>\n",
              "    <tr>\n",
              "      <th>105756</th>\n",
              "      <td>38</td>\n",
              "      <td>C1360481565</td>\n",
              "      <td>5</td>\n",
              "      <td>F</td>\n",
              "      <td>M348934600</td>\n",
              "      <td>es_transportation</td>\n",
              "      <td>36.18</td>\n",
              "      <td>0</td>\n",
              "      <td>5F</td>\n",
              "      <td>0.016484</td>\n",
              "      <td>0.0</td>\n",
              "      <td>77.35</td>\n",
              "      <td>0.0</td>\n",
              "    </tr>\n",
              "    <tr>\n",
              "      <th>95440</th>\n",
              "      <td>35</td>\n",
              "      <td>C1928450094</td>\n",
              "      <td>2</td>\n",
              "      <td>M</td>\n",
              "      <td>M1823072687</td>\n",
              "      <td>es_transportation</td>\n",
              "      <td>28.68</td>\n",
              "      <td>0</td>\n",
              "      <td>2M</td>\n",
              "      <td>0.000000</td>\n",
              "      <td>0.0</td>\n",
              "      <td>77.35</td>\n",
              "      <td>0.0</td>\n",
              "    </tr>\n",
              "    <tr>\n",
              "      <th>168474</th>\n",
              "      <td>58</td>\n",
              "      <td>C1839662768</td>\n",
              "      <td>3</td>\n",
              "      <td>F</td>\n",
              "      <td>M348934600</td>\n",
              "      <td>es_transportation</td>\n",
              "      <td>35.88</td>\n",
              "      <td>0</td>\n",
              "      <td>3F</td>\n",
              "      <td>0.030534</td>\n",
              "      <td>0.0</td>\n",
              "      <td>77.35</td>\n",
              "      <td>0.0</td>\n",
              "    </tr>\n",
              "    <tr>\n",
              "      <th>61955</th>\n",
              "      <td>23</td>\n",
              "      <td>C959506480</td>\n",
              "      <td>1</td>\n",
              "      <td>F</td>\n",
              "      <td>M348934600</td>\n",
              "      <td>es_transportation</td>\n",
              "      <td>17.66</td>\n",
              "      <td>0</td>\n",
              "      <td>1F</td>\n",
              "      <td>0.000000</td>\n",
              "      <td>0.0</td>\n",
              "      <td>77.35</td>\n",
              "      <td>0.0</td>\n",
              "    </tr>\n",
              "    <tr>\n",
              "      <th>231674</th>\n",
              "      <td>78</td>\n",
              "      <td>C203802515</td>\n",
              "      <td>1</td>\n",
              "      <td>F</td>\n",
              "      <td>M1823072687</td>\n",
              "      <td>es_transportation</td>\n",
              "      <td>19.71</td>\n",
              "      <td>0</td>\n",
              "      <td>1F</td>\n",
              "      <td>0.000000</td>\n",
              "      <td>0.0</td>\n",
              "      <td>77.35</td>\n",
              "      <td>0.0</td>\n",
              "    </tr>\n",
              "  </tbody>\n",
              "</table>\n",
              "</div>"
            ],
            "text/plain": [
              "        step     customer  age  ... merch_fraud_part category_up_border fraud_evr\n",
              "105756    38  C1360481565    5  ...              0.0              77.35       0.0\n",
              "95440     35  C1928450094    2  ...              0.0              77.35       0.0\n",
              "168474    58  C1839662768    3  ...              0.0              77.35       0.0\n",
              "61955     23   C959506480    1  ...              0.0              77.35       0.0\n",
              "231674    78   C203802515    1  ...              0.0              77.35       0.0\n",
              "\n",
              "[5 rows x 13 columns]"
            ]
          },
          "metadata": {
            "tags": []
          },
          "execution_count": 325
        }
      ]
    },
    {
      "cell_type": "code",
      "metadata": {
        "id": "X0QQInuLITkp"
      },
      "source": [
        "# функция для печати отчета\n",
        "\n",
        "def print_param(p0, r0, f0, p1, r1, f1, acc):\n",
        "  print(\"============================================\")\n",
        "  print(\"# classification_report for heuristic model:\")\n",
        "  print(\"============================================\")\n",
        "  print()\n",
        "  print(\"   precision\\trecall\\t f1-score\")\n",
        "  print(\"--------------------------------------------\")\n",
        "  print(f' 0\\t%0.2f\\t %0.2f\\t    %0.2f' % (p0, r0, f0))\n",
        "  print(f' 1\\t%0.2f\\t %0.2f\\t    %0.2f' % (p1, r1, f1))\n",
        "  print(\"--------------------------------------------\")\n",
        "  print(f'    accuracy\\t\\t    %0.2f' % acc)\n",
        "  "
      ],
      "execution_count": null,
      "outputs": []
    },
    {
      "cell_type": "code",
      "metadata": {
        "colab": {
          "base_uri": "https://localhost:8080/"
        },
        "id": "zDFk9mfvC26H",
        "outputId": "cc294a70-5acc-4c32-9ae1-fec56d908aa8"
      },
      "source": [
        "# вычисляем метрики precision/recall/accuracy \n",
        "\n",
        "tn = evr_test[(evr_test['fraud'] == evr_test['fraud_evr']) & (evr_test['fraud'] == 0)]['fraud_evr'].count()\n",
        "tp = evr_test[(evr_test['fraud'] == evr_test['fraud_evr']) & (evr_test['fraud'] == 1)]['fraud_evr'].count()\n",
        "fn = evr_test[(evr_test['fraud'] != evr_test['fraud_evr']) & (evr_test['fraud'] == 1)]['fraud_evr'].count()\n",
        "fp = evr_test[(evr_test['fraud'] != evr_test['fraud_evr']) & (evr_test['fraud'] == 0)]['fraud_evr'].count()\n",
        "my_pr_0 = round(tn / (tn + fn), 3)\n",
        "my_re_0 = round(tn / (tn + fp), 3)\n",
        "my_pr_1 = round(tp / (tp + fp), 3)\n",
        "my_re_1 = round(tp / (tp + fn), 3)\n",
        "my_f1_0 = round((2 * my_pr_0 * my_re_0)/(my_pr_0 + my_re_0), 3)\n",
        "my_f1_1 = round((2 * my_pr_1 * my_re_1)/(my_pr_1 + my_re_1), 3)\n",
        "my_acc = round((tp+tn)/(tp+tn+fp+fn),3)\n",
        "\n",
        "print_param(my_pr_0, my_re_0, my_f1_0 , my_pr_1, my_re_1, my_f1_1, my_acc)"
      ],
      "execution_count": null,
      "outputs": [
        {
          "output_type": "stream",
          "text": [
            "============================================\n",
            "# classification_report for heuristic model:\n",
            "============================================\n",
            "\n",
            "   precision\trecall\t f1-score\n",
            "--------------------------------------------\n",
            " 0\t1.00\t 0.99\t    0.99\n",
            " 1\t0.55\t 0.81\t    0.66\n",
            "--------------------------------------------\n",
            "    accuracy\t\t    0.99\n"
          ],
          "name": "stdout"
        }
      ]
    },
    {
      "cell_type": "markdown",
      "metadata": {
        "id": "VwcmRumdbtDy"
      },
      "source": [
        "Выбранный эвристический алгоритм, основанный лишь на построении порога отсечения по сумме транзакции, дает нам значение метрики $Recall$ = (0.52, 0.59), что является не очень хорошим показателем. Дополнительное применение \"черных списков\" контрагентов повышает оценку до уровня 0.79 - 0.89, в зависимости от установленных порогов риска по покупателям и продавцам соответственно, точность прогноза при этом падает."
      ]
    },
    {
      "cell_type": "markdown",
      "metadata": {
        "id": "aGJBQfDAtkAJ"
      },
      "source": [
        "## Определение фрода при помощи модели ML"
      ]
    },
    {
      "cell_type": "markdown",
      "metadata": {
        "id": "unc0NJCy-ifn"
      },
      "source": [
        "### Подготовка датасета"
      ]
    },
    {
      "cell_type": "markdown",
      "metadata": {
        "id": "JTCB3exz9e6V"
      },
      "source": [
        "Очистим датасет от вспомогательных показателей, сформированных для проведения анализа."
      ]
    },
    {
      "cell_type": "code",
      "metadata": {
        "colab": {
          "base_uri": "https://localhost:8080/",
          "height": 204
        },
        "id": "JlTG2weWe2A8",
        "outputId": "15608dc5-77f1-44db-9473-b75abb3fd05b"
      },
      "source": [
        "df_clear = df.drop(['age_gender', 'cust_fraud_part', 'merch_fraud_part'], axis=1)\n",
        "df_clear.head()"
      ],
      "execution_count": null,
      "outputs": [
        {
          "output_type": "execute_result",
          "data": {
            "text/html": [
              "<div>\n",
              "<style scoped>\n",
              "    .dataframe tbody tr th:only-of-type {\n",
              "        vertical-align: middle;\n",
              "    }\n",
              "\n",
              "    .dataframe tbody tr th {\n",
              "        vertical-align: top;\n",
              "    }\n",
              "\n",
              "    .dataframe thead th {\n",
              "        text-align: right;\n",
              "    }\n",
              "</style>\n",
              "<table border=\"1\" class=\"dataframe\">\n",
              "  <thead>\n",
              "    <tr style=\"text-align: right;\">\n",
              "      <th></th>\n",
              "      <th>step</th>\n",
              "      <th>customer</th>\n",
              "      <th>age</th>\n",
              "      <th>gender</th>\n",
              "      <th>merchant</th>\n",
              "      <th>category</th>\n",
              "      <th>amount</th>\n",
              "      <th>fraud</th>\n",
              "    </tr>\n",
              "  </thead>\n",
              "  <tbody>\n",
              "    <tr>\n",
              "      <th>0</th>\n",
              "      <td>0</td>\n",
              "      <td>C1093826151</td>\n",
              "      <td>4</td>\n",
              "      <td>M</td>\n",
              "      <td>M348934600</td>\n",
              "      <td>es_transportation</td>\n",
              "      <td>4.55</td>\n",
              "      <td>0</td>\n",
              "    </tr>\n",
              "    <tr>\n",
              "      <th>1</th>\n",
              "      <td>0</td>\n",
              "      <td>C352968107</td>\n",
              "      <td>2</td>\n",
              "      <td>M</td>\n",
              "      <td>M348934600</td>\n",
              "      <td>es_transportation</td>\n",
              "      <td>39.68</td>\n",
              "      <td>0</td>\n",
              "    </tr>\n",
              "    <tr>\n",
              "      <th>2</th>\n",
              "      <td>0</td>\n",
              "      <td>C2054744914</td>\n",
              "      <td>4</td>\n",
              "      <td>F</td>\n",
              "      <td>M1823072687</td>\n",
              "      <td>es_transportation</td>\n",
              "      <td>26.89</td>\n",
              "      <td>0</td>\n",
              "    </tr>\n",
              "    <tr>\n",
              "      <th>3</th>\n",
              "      <td>0</td>\n",
              "      <td>C1760612790</td>\n",
              "      <td>3</td>\n",
              "      <td>M</td>\n",
              "      <td>M348934600</td>\n",
              "      <td>es_transportation</td>\n",
              "      <td>17.25</td>\n",
              "      <td>0</td>\n",
              "    </tr>\n",
              "    <tr>\n",
              "      <th>4</th>\n",
              "      <td>0</td>\n",
              "      <td>C757503768</td>\n",
              "      <td>5</td>\n",
              "      <td>M</td>\n",
              "      <td>M348934600</td>\n",
              "      <td>es_transportation</td>\n",
              "      <td>35.72</td>\n",
              "      <td>0</td>\n",
              "    </tr>\n",
              "  </tbody>\n",
              "</table>\n",
              "</div>"
            ],
            "text/plain": [
              "   step     customer  age gender     merchant           category  amount  fraud\n",
              "0     0  C1093826151    4      M   M348934600  es_transportation    4.55      0\n",
              "1     0   C352968107    2      M   M348934600  es_transportation   39.68      0\n",
              "2     0  C2054744914    4      F  M1823072687  es_transportation   26.89      0\n",
              "3     0  C1760612790    3      M   M348934600  es_transportation   17.25      0\n",
              "4     0   C757503768    5      M   M348934600  es_transportation   35.72      0"
            ]
          },
          "metadata": {
            "tags": []
          },
          "execution_count": 79
        }
      ]
    },
    {
      "cell_type": "code",
      "metadata": {
        "colab": {
          "base_uri": "https://localhost:8080/",
          "height": 204
        },
        "id": "YhRk5iift150",
        "outputId": "1923cfc6-0ad2-4fd6-cb17-57622ae44a75"
      },
      "source": [
        "# Выделяем целевую переменную\n",
        "\n",
        "dfml = df_clear\n",
        "Y = dfml['fraud'].values\n",
        "dfml.drop(['fraud'], axis = 1, inplace=True)\n",
        "dfml.head()"
      ],
      "execution_count": null,
      "outputs": [
        {
          "output_type": "execute_result",
          "data": {
            "text/html": [
              "<div>\n",
              "<style scoped>\n",
              "    .dataframe tbody tr th:only-of-type {\n",
              "        vertical-align: middle;\n",
              "    }\n",
              "\n",
              "    .dataframe tbody tr th {\n",
              "        vertical-align: top;\n",
              "    }\n",
              "\n",
              "    .dataframe thead th {\n",
              "        text-align: right;\n",
              "    }\n",
              "</style>\n",
              "<table border=\"1\" class=\"dataframe\">\n",
              "  <thead>\n",
              "    <tr style=\"text-align: right;\">\n",
              "      <th></th>\n",
              "      <th>step</th>\n",
              "      <th>customer</th>\n",
              "      <th>age</th>\n",
              "      <th>gender</th>\n",
              "      <th>merchant</th>\n",
              "      <th>category</th>\n",
              "      <th>amount</th>\n",
              "    </tr>\n",
              "  </thead>\n",
              "  <tbody>\n",
              "    <tr>\n",
              "      <th>0</th>\n",
              "      <td>0</td>\n",
              "      <td>C1093826151</td>\n",
              "      <td>4</td>\n",
              "      <td>M</td>\n",
              "      <td>M348934600</td>\n",
              "      <td>es_transportation</td>\n",
              "      <td>4.55</td>\n",
              "    </tr>\n",
              "    <tr>\n",
              "      <th>1</th>\n",
              "      <td>0</td>\n",
              "      <td>C352968107</td>\n",
              "      <td>2</td>\n",
              "      <td>M</td>\n",
              "      <td>M348934600</td>\n",
              "      <td>es_transportation</td>\n",
              "      <td>39.68</td>\n",
              "    </tr>\n",
              "    <tr>\n",
              "      <th>2</th>\n",
              "      <td>0</td>\n",
              "      <td>C2054744914</td>\n",
              "      <td>4</td>\n",
              "      <td>F</td>\n",
              "      <td>M1823072687</td>\n",
              "      <td>es_transportation</td>\n",
              "      <td>26.89</td>\n",
              "    </tr>\n",
              "    <tr>\n",
              "      <th>3</th>\n",
              "      <td>0</td>\n",
              "      <td>C1760612790</td>\n",
              "      <td>3</td>\n",
              "      <td>M</td>\n",
              "      <td>M348934600</td>\n",
              "      <td>es_transportation</td>\n",
              "      <td>17.25</td>\n",
              "    </tr>\n",
              "    <tr>\n",
              "      <th>4</th>\n",
              "      <td>0</td>\n",
              "      <td>C757503768</td>\n",
              "      <td>5</td>\n",
              "      <td>M</td>\n",
              "      <td>M348934600</td>\n",
              "      <td>es_transportation</td>\n",
              "      <td>35.72</td>\n",
              "    </tr>\n",
              "  </tbody>\n",
              "</table>\n",
              "</div>"
            ],
            "text/plain": [
              "   step     customer  age gender     merchant           category  amount\n",
              "0     0  C1093826151    4      M   M348934600  es_transportation    4.55\n",
              "1     0   C352968107    2      M   M348934600  es_transportation   39.68\n",
              "2     0  C2054744914    4      F  M1823072687  es_transportation   26.89\n",
              "3     0  C1760612790    3      M   M348934600  es_transportation   17.25\n",
              "4     0   C757503768    5      M   M348934600  es_transportation   35.72"
            ]
          },
          "metadata": {
            "tags": []
          },
          "execution_count": 80
        }
      ]
    },
    {
      "cell_type": "markdown",
      "metadata": {
        "id": "w-96L_6Wx7eU"
      },
      "source": [
        "Преобразуем категориальные признаки в числовые при помощи метода LabelEncoder.\n",
        " "
      ]
    },
    {
      "cell_type": "code",
      "metadata": {
        "colab": {
          "base_uri": "https://localhost:8080/",
          "height": 204
        },
        "id": "DL4-H-RBm0Fq",
        "outputId": "b9f084df-de19-444e-9716-2a5018ed66bd"
      },
      "source": [
        "from sklearn import preprocessing\n",
        "\n",
        "def number_encode_features(init_df, columns_to_transform):\n",
        "    result = init_df.copy() \n",
        "    encoders = {}\n",
        "    for column in columns_to_transform:\n",
        "        encoders[column] = preprocessing.LabelEncoder() \n",
        "        result[column] = encoders[column].fit_transform(result[column]) \n",
        "    return result, encoders\n",
        "\n",
        "df_encode, encoders = number_encode_features(dfml, ['gender','customer', 'merchant', 'category']) \n",
        "df_encode.head() \n"
      ],
      "execution_count": null,
      "outputs": [
        {
          "output_type": "execute_result",
          "data": {
            "text/html": [
              "<div>\n",
              "<style scoped>\n",
              "    .dataframe tbody tr th:only-of-type {\n",
              "        vertical-align: middle;\n",
              "    }\n",
              "\n",
              "    .dataframe tbody tr th {\n",
              "        vertical-align: top;\n",
              "    }\n",
              "\n",
              "    .dataframe thead th {\n",
              "        text-align: right;\n",
              "    }\n",
              "</style>\n",
              "<table border=\"1\" class=\"dataframe\">\n",
              "  <thead>\n",
              "    <tr style=\"text-align: right;\">\n",
              "      <th></th>\n",
              "      <th>step</th>\n",
              "      <th>customer</th>\n",
              "      <th>age</th>\n",
              "      <th>gender</th>\n",
              "      <th>merchant</th>\n",
              "      <th>category</th>\n",
              "      <th>amount</th>\n",
              "    </tr>\n",
              "  </thead>\n",
              "  <tbody>\n",
              "    <tr>\n",
              "      <th>0</th>\n",
              "      <td>0</td>\n",
              "      <td>210</td>\n",
              "      <td>4</td>\n",
              "      <td>2</td>\n",
              "      <td>30</td>\n",
              "      <td>12</td>\n",
              "      <td>4.55</td>\n",
              "    </tr>\n",
              "    <tr>\n",
              "      <th>1</th>\n",
              "      <td>0</td>\n",
              "      <td>2753</td>\n",
              "      <td>2</td>\n",
              "      <td>2</td>\n",
              "      <td>30</td>\n",
              "      <td>12</td>\n",
              "      <td>39.68</td>\n",
              "    </tr>\n",
              "    <tr>\n",
              "      <th>2</th>\n",
              "      <td>0</td>\n",
              "      <td>2285</td>\n",
              "      <td>4</td>\n",
              "      <td>1</td>\n",
              "      <td>18</td>\n",
              "      <td>12</td>\n",
              "      <td>26.89</td>\n",
              "    </tr>\n",
              "    <tr>\n",
              "      <th>3</th>\n",
              "      <td>0</td>\n",
              "      <td>1650</td>\n",
              "      <td>3</td>\n",
              "      <td>2</td>\n",
              "      <td>30</td>\n",
              "      <td>12</td>\n",
              "      <td>17.25</td>\n",
              "    </tr>\n",
              "    <tr>\n",
              "      <th>4</th>\n",
              "      <td>0</td>\n",
              "      <td>3585</td>\n",
              "      <td>5</td>\n",
              "      <td>2</td>\n",
              "      <td>30</td>\n",
              "      <td>12</td>\n",
              "      <td>35.72</td>\n",
              "    </tr>\n",
              "  </tbody>\n",
              "</table>\n",
              "</div>"
            ],
            "text/plain": [
              "   step  customer  age  gender  merchant  category  amount\n",
              "0     0       210    4       2        30        12    4.55\n",
              "1     0      2753    2       2        30        12   39.68\n",
              "2     0      2285    4       1        18        12   26.89\n",
              "3     0      1650    3       2        30        12   17.25\n",
              "4     0      3585    5       2        30        12   35.72"
            ]
          },
          "metadata": {
            "tags": []
          },
          "execution_count": 81
        }
      ]
    },
    {
      "cell_type": "markdown",
      "metadata": {
        "id": "bXqtxUyQh7vi"
      },
      "source": [
        "Проверим корреляцию между признаками"
      ]
    },
    {
      "cell_type": "code",
      "metadata": {
        "id": "aYbPqvydfYAt",
        "colab": {
          "base_uri": "https://localhost:8080/",
          "height": 379
        },
        "outputId": "aab33339-3a17-4f17-eae2-b17581c4d581"
      },
      "source": [
        "fig, axes = plt.subplots(figsize=(6,5))\n",
        "sns.heatmap(round(df_encode.corr(),2), cmap='viridis', annot=True, ax=axes)"
      ],
      "execution_count": null,
      "outputs": [
        {
          "output_type": "execute_result",
          "data": {
            "text/plain": [
              "<matplotlib.axes._subplots.AxesSubplot at 0x7ff59896e190>"
            ]
          },
          "metadata": {
            "tags": []
          },
          "execution_count": 169
        },
        {
          "output_type": "display_data",
          "data": {
            "image/png": "[encoded data removed]",
            "text/plain": [
              "<Figure size 432x360 with 2 Axes>"
            ]
          },
          "metadata": {
            "tags": [],
            "needs_background": "light"
          }
        }
      ]
    },
    {
      "cell_type": "markdown",
      "metadata": {
        "id": "XTsiIJaIo9mv"
      },
      "source": [
        "Значительной взаимосвязи между признаками не выявлено.\n"
      ]
    },
    {
      "cell_type": "code",
      "metadata": {
        "colab": {
          "base_uri": "https://localhost:8080/"
        },
        "id": "9iN-WBiGkmBC",
        "outputId": "81ad3131-355b-4b8a-a2f7-4d8abc9b5f2e"
      },
      "source": [
        "# Разбиваем выборку на обучение и тест для \n",
        "\n",
        "from sklearn import model_selection\n",
        "\n",
        "dfml = df_encode\n",
        "X_train_base, X_test_base, Y_train, Y_test = model_selection.train_test_split(dfml, Y, test_size=0.3, stratify=Y)\n",
        "X_train_base.shape, X_test_base.shape, Y_train.shape, Y_test.shape"
      ],
      "execution_count": null,
      "outputs": [
        {
          "output_type": "execute_result",
          "data": {
            "text/plain": [
              "((416250, 7), (178393, 7), (416250,), (178393,))"
            ]
          },
          "metadata": {
            "tags": []
          },
          "execution_count": 95
        }
      ]
    },
    {
      "cell_type": "markdown",
      "metadata": {
        "id": "8RZCAG3K65QA"
      },
      "source": [
        "Поскольку в ходе проведенного анализа была выявлена зависимость между суммой транзакции и целевой переменной, для каждого покупателя и продавца вычислим среднее значение суммы всех его транзакций. Внесем данные в датасет. Данная информация, возможно, позволит нам улучшить предсказательный результат модели."
      ]
    },
    {
      "cell_type": "code",
      "metadata": {
        "id": "OO0FU3JZAChQ"
      },
      "source": [
        "X_train = X_train_base.copy()\n",
        "X_test = X_test_base.copy()\n",
        "X_train['customer_mean_amount'] = X_train.groupby(['customer'])['amount'].transform('mean')\n",
        "X_train['merchant_mean_amount'] = X_train.groupby(['merchant'])['amount'].transform('mean')\n",
        "X_test['customer_mean_amount'] = X_test.groupby(['customer'])['amount'].transform('mean')\n",
        "X_test['merchant_mean_amount'] = X_test.groupby(['merchant'])['amount'].transform('mean')\n"
      ],
      "execution_count": null,
      "outputs": []
    },
    {
      "cell_type": "code",
      "metadata": {
        "id": "8HdOHerfzgbX"
      },
      "source": [
        "# Применим масштабирование\n",
        "\n",
        "from sklearn.preprocessing import StandardScaler\n",
        "\n",
        "def scale_features(df_train, df_test, columns_to_scale):\n",
        "    train = df_train.copy() \n",
        "    test = df_test.copy() \n",
        "    sc = StandardScaler()  \n",
        "    res_train = sc.fit_transform(train[columns_to_scale])\n",
        "    res_test = sc.transform(test[columns_to_scale])\n",
        "    for col in enumerate(columns_to_scale):\n",
        "        train[col[1]] = res_train[:,col[0]]\n",
        "        test[col[1]] = res_test[:,col[0]]\n",
        "    return train, test\n",
        "\n",
        "X_train, X_test = scale_features(X_train, X_test, ['step', 'customer',\t'merchant', 'amount', 'customer_mean_amount', 'merchant_mean_amount'])    "
      ],
      "execution_count": null,
      "outputs": []
    },
    {
      "cell_type": "markdown",
      "metadata": {
        "id": "_lQbAjal0px3"
      },
      "source": [
        "### Выбор базовой модели"
      ]
    },
    {
      "cell_type": "markdown",
      "metadata": {
        "id": "tbWpx08f1od7"
      },
      "source": [
        "Поскольку перед нами задача бинарной классификации, и изначально датасет содержит много категориальных признаков, для построения модели выбираем алгоритм дерева решений.\n",
        "\n",
        "Рассмотрим две модели: **DecisionTreeClassifier** и **RandomForestClassifier**\n"
      ]
    },
    {
      "cell_type": "code",
      "metadata": {
        "id": "nK8LWUmTMn84"
      },
      "source": [
        "# модели\n",
        "from sklearn.tree import DecisionTreeClassifier\n",
        "from sklearn.ensemble import RandomForestClassifier\n",
        "# метрики качества\n",
        "from sklearn.metrics import precision_recall_curve\n",
        "from sklearn.metrics import fbeta_score\n",
        "from sklearn.metrics import accuracy_score\n",
        "from sklearn.metrics import roc_curve\n",
        "from sklearn.metrics import roc_auc_score\n",
        "from sklearn.metrics import SCORERS\n",
        "\n",
        "from sklearn.metrics import classification_report\n"
      ],
      "execution_count": null,
      "outputs": []
    },
    {
      "cell_type": "code",
      "metadata": {
        "colab": {
          "base_uri": "https://localhost:8080/"
        },
        "id": "q2ZvbRQ3GroG",
        "outputId": "7ec753c3-934d-4879-888b-2ee559fb7d16"
      },
      "source": [
        "DTC_model = DecisionTreeClassifier()\n",
        "DTC_model.fit(X_train, Y_train)\n",
        "\n",
        "RFC_model = RandomForestClassifier(n_estimators=20)\n",
        "RFC_model.fit(X_train, Y_train)\n"
      ],
      "execution_count": null,
      "outputs": [
        {
          "output_type": "execute_result",
          "data": {
            "text/plain": [
              "RandomForestClassifier(bootstrap=True, ccp_alpha=0.0, class_weight=None,\n",
              "                       criterion='gini', max_depth=None, max_features='auto',\n",
              "                       max_leaf_nodes=None, max_samples=None,\n",
              "                       min_impurity_decrease=0.0, min_impurity_split=None,\n",
              "                       min_samples_leaf=1, min_samples_split=2,\n",
              "                       min_weight_fraction_leaf=0.0, n_estimators=20,\n",
              "                       n_jobs=None, oob_score=False, random_state=None,\n",
              "                       verbose=0, warm_start=False)"
            ]
          },
          "metadata": {
            "tags": []
          },
          "execution_count": 185
        }
      ]
    },
    {
      "cell_type": "code",
      "metadata": {
        "id": "i6oT6u5WJFot"
      },
      "source": [
        "YDT_predict = DTC_model.predict(X_test)\n",
        "YRF_predict = RFC_model.predict(X_test)"
      ],
      "execution_count": null,
      "outputs": []
    },
    {
      "cell_type": "code",
      "metadata": {
        "colab": {
          "base_uri": "https://localhost:8080/"
        },
        "id": "FM9-IPXwJnZ-",
        "outputId": "b2d29367-64f9-4589-fd34-ab454458bee0"
      },
      "source": [
        "# Проверим, какие результаты выдают модели на обучающей и тестовой выборке\n",
        "\n",
        "print(\"DTC_model - on train set: {}\".format(accuracy_score(Y_train, DTC_model.predict(X_train))))\n",
        "print(\"DTC_model - on test set: {}\".format(accuracy_score(Y_test, YDT_predict)))\n",
        "print(\"\\n\")\n",
        "print(\"RFC_model - on train set: {}\".format(accuracy_score(Y_train, RFC_model.predict(X_train))))\n",
        "print(\"RFC_model - on test set: {}\".format(accuracy_score(Y_test, YRF_predict)))\n"
      ],
      "execution_count": null,
      "outputs": [
        {
          "output_type": "stream",
          "text": [
            "DTC_model - on train set: 1.0\n",
            "DTC_model - on test set: 0.994691495742546\n",
            "\n",
            "\n",
            "RFC_model - on train set: 0.9998702702702703\n",
            "RFC_model - on test set: 0.9962106136451543\n"
          ],
          "name": "stdout"
        }
      ]
    },
    {
      "cell_type": "markdown",
      "metadata": {
        "id": "9TMWubDl1RAX"
      },
      "source": [
        "Сильного расхождения на обучающей и тестовой выборке не выявлено, следовательно модели не переобучились."
      ]
    },
    {
      "cell_type": "code",
      "metadata": {
        "colab": {
          "base_uri": "https://localhost:8080/"
        },
        "id": "0O12tpyZM6O1",
        "outputId": "dba17238-eaf8-48c3-a8cf-518f8f57b727"
      },
      "source": [
        "print(\"classification_report for DecisionTreeClassifier model:\\n\")\n",
        "print(classification_report(Y_test, YDT_predict))"
      ],
      "execution_count": null,
      "outputs": [
        {
          "output_type": "stream",
          "text": [
            "classification_report for DecisionTreeClassifier model:\n",
            "\n",
            "              precision    recall  f1-score   support\n",
            "\n",
            "           0       1.00      1.00      1.00    176233\n",
            "           1       0.77      0.79      0.78      2160\n",
            "\n",
            "    accuracy                           0.99    178393\n",
            "   macro avg       0.89      0.90      0.89    178393\n",
            "weighted avg       0.99      0.99      0.99    178393\n",
            "\n"
          ],
          "name": "stdout"
        }
      ]
    },
    {
      "cell_type": "code",
      "metadata": {
        "colab": {
          "base_uri": "https://localhost:8080/"
        },
        "id": "MQWGs9wana3R",
        "outputId": "d15abec7-8ef0-4d4d-8a72-5dbff01fdd7c"
      },
      "source": [
        "print(\"classification_report for RandomForestClassifier model:\\n\")\n",
        "print(classification_report(Y_test, YRF_predict))"
      ],
      "execution_count": null,
      "outputs": [
        {
          "output_type": "stream",
          "text": [
            "classification_report for RandomForestClassifier model:\n",
            "\n",
            "              precision    recall  f1-score   support\n",
            "\n",
            "           0       1.00      1.00      1.00    176233\n",
            "           1       0.89      0.78      0.83      2160\n",
            "\n",
            "    accuracy                           1.00    178393\n",
            "   macro avg       0.94      0.89      0.92    178393\n",
            "weighted avg       1.00      1.00      1.00    178393\n",
            "\n"
          ],
          "name": "stdout"
        }
      ]
    },
    {
      "cell_type": "code",
      "metadata": {
        "colab": {
          "base_uri": "https://localhost:8080/",
          "height": 304
        },
        "id": "scBrQM0gf7CI",
        "outputId": "c43f107d-5854-490c-f890-f51418709b87"
      },
      "source": [
        "# Оценим качество моделей по метрике PRC-AUC\n",
        "\n",
        "test_prob_DC = DTC_model.predict_proba(X_test)[:,1]\n",
        "test_prob_RF = RFC_model.predict_proba(X_test)[:,1]\n",
        "\n",
        "precision_DC, recall_DC, _ = precision_recall_curve(Y_test, test_prob_DC)\n",
        "precision_RF, recall_RF, _ = precision_recall_curve(Y_test, test_prob_RF)\n",
        "\n",
        "plt.title('Precision/Recall Characteristic (PRC) Curve')\n",
        "plt.plot(precision_DC, recall_DC, color='orange', label='PRC DecisionTreeClassifier')\n",
        "plt.plot(precision_RF, recall_RF, color='red', label='PRC RandomForestClassifier')\n",
        "plt.title('Precision-Recall curve', fontsize=18)\n",
        "plt.xlabel('Полнота (Recall)', fontsize=16)\n",
        "plt.ylabel('Точность (Precision)', fontsize=16)\n",
        "plt.legend()\n",
        "plt.show()"
      ],
      "execution_count": null,
      "outputs": [
        {
          "output_type": "display_data",
          "data": {
            "image/png": "[encoded data removed]",
            "text/plain": [
              "<Figure size 432x288 with 1 Axes>"
            ]
          },
          "metadata": {
            "tags": [],
            "needs_background": "light"
          }
        }
      ]
    },
    {
      "cell_type": "markdown",
      "metadata": {
        "id": "hHS_GVcfWaOk"
      },
      "source": [
        "Модель, построенная на алгоритме \"Random Forest\" лучше решают нашу задачу. "
      ]
    },
    {
      "cell_type": "markdown",
      "metadata": {
        "id": "2jzpmzzi3JW4"
      },
      "source": [
        "### Подбор параметров модели (кросс-валидация)"
      ]
    },
    {
      "cell_type": "markdown",
      "metadata": {
        "id": "UUpNucabYbWg"
      },
      "source": [
        "Проведем подбор параметров модели на кросс-валидации. В качестве метрики будем использовать RECALL, так как выявление факта мошенничества важнее, чем потенциальное недовольство клиентов."
      ]
    },
    {
      "cell_type": "code",
      "metadata": {
        "id": "1Fg8iOhwhjXW"
      },
      "source": [
        "sorted(SCORERS.keys())"
      ],
      "execution_count": null,
      "outputs": []
    },
    {
      "cell_type": "code",
      "metadata": {
        "id": "2iT5bicmlCha"
      },
      "source": [
        "# Задание параметров кроссвалидации для модели\n",
        "\n",
        "from sklearn.model_selection import GridSearchCV\n",
        "from sklearn.model_selection import KFold\n",
        "\n",
        "skf = KFold(n_splits=5, shuffle = True)           # разбиение на 5 фолдов\n",
        "score_ = 'recall'\n",
        "grid_param = {'n_estimators': [20, 50, 100], 'max_depth': [20, 30], 'max_features':[5, 'sqrt', 'auto']}   # создание сетки параметров модели\n"
      ],
      "execution_count": null,
      "outputs": []
    },
    {
      "cell_type": "code",
      "metadata": {
        "colab": {
          "base_uri": "https://localhost:8080/"
        },
        "id": "MusOz4O8i7vL",
        "outputId": "9be017bd-8d38-45df-efe3-e2eb1dd6f212"
      },
      "source": [
        "gs = GridSearchCV(estimator=RFC_model,  param_grid=grid_param, cv=skf, scoring=score_, return_train_score=True)\n",
        "gs.fit(X_train, Y_train)"
      ],
      "execution_count": null,
      "outputs": [
        {
          "output_type": "execute_result",
          "data": {
            "text/plain": [
              "GridSearchCV(cv=KFold(n_splits=5, random_state=None, shuffle=True),\n",
              "             error_score=nan,\n",
              "             estimator=RandomForestClassifier(bootstrap=True, ccp_alpha=0.0,\n",
              "                                              class_weight=None,\n",
              "                                              criterion='gini', max_depth=None,\n",
              "                                              max_features='auto',\n",
              "                                              max_leaf_nodes=None,\n",
              "                                              max_samples=None,\n",
              "                                              min_impurity_decrease=0.0,\n",
              "                                              min_impurity_split=None,\n",
              "                                              min_samples_leaf=1,\n",
              "                                              min_samples_split=2,\n",
              "                                              min_weight_fraction_leaf=0.0,\n",
              "                                              n_estimators=20, n_jobs=None,\n",
              "                                              oob_score=False,\n",
              "                                              random_state=None, verbose=0,\n",
              "                                              warm_start=False),\n",
              "             iid='deprecated', n_jobs=None,\n",
              "             param_grid={'max_depth': [20, 30],\n",
              "                         'max_features': [5, 'sqrt', 'auto'],\n",
              "                         'n_estimators': [20, 50, 100]},\n",
              "             pre_dispatch='2*n_jobs', refit=True, return_train_score=True,\n",
              "             scoring='recall', verbose=0)"
            ]
          },
          "metadata": {
            "tags": []
          },
          "execution_count": 192
        }
      ]
    },
    {
      "cell_type": "code",
      "metadata": {
        "colab": {
          "base_uri": "https://localhost:8080/"
        },
        "id": "YDoiro6qt-4H",
        "outputId": "a1e7917e-267b-4fcd-e7ee-73b8849e764f"
      },
      "source": [
        "print(\"On train set: {}\".format(accuracy_score(Y_train, gs.predict(X_train))))\n",
        "print(\"On test set: {}\".format(accuracy_score(Y_test, gs.predict(X_test))))"
      ],
      "execution_count": null,
      "outputs": [
        {
          "output_type": "stream",
          "text": [
            "On train set: 0.9998462462462463\n",
            "On test set: 0.99638438727977\n"
          ],
          "name": "stdout"
        }
      ]
    },
    {
      "cell_type": "code",
      "metadata": {
        "id": "7LlIrH55lWv9"
      },
      "source": [
        "# функция для печати отчета\n",
        "\n",
        "from sklearn.metrics import classification_report\n",
        "def print_param(x_test, y_test, clf, score):\n",
        "# clf   - модель\n",
        "# score - метрика   \n",
        "  print(\"# Tuning hyper-parameters for %s\" % score)\n",
        "  print()\n",
        "\n",
        "  print(\"Best parameters set found on development set:\")\n",
        "  print()\n",
        "  print(clf.best_params_)\n",
        "  print()\n",
        "  print(\"Grid scores on development set:\")\n",
        "  print()\n",
        "  means = clf.cv_results_['mean_test_score']\n",
        "  stds = clf.cv_results_['std_test_score']\n",
        "  for mean, std, params in zip(means, stds, clf.cv_results_['params']):\n",
        "      print(\"%0.3f (+/-%0.03f) for %r\" % (mean, std * 2, params))\n",
        "  print()\n",
        "  print(\"Detailed classification report:\")\n",
        "  print()\n",
        "  print(\"The model is trained on the full development set.\")\n",
        "  print(\"The scores are computed on the full evaluation set.\")\n",
        "  print()\n",
        "  y_true, y_pred = y_test, clf.predict(x_test)\n",
        "  print(classification_report(y_true, y_pred))\n",
        "  print()\n",
        "  return clf"
      ],
      "execution_count": null,
      "outputs": []
    },
    {
      "cell_type": "code",
      "metadata": {
        "colab": {
          "base_uri": "https://localhost:8080/"
        },
        "id": "yM862DKg_hgb",
        "outputId": "2512e82b-d7dc-46a9-9e16-cdc7acaf5f45"
      },
      "source": [
        "print_param(X_test, Y_test, gs, score_)"
      ],
      "execution_count": null,
      "outputs": [
        {
          "output_type": "stream",
          "text": [
            "# Tuning hyper-parameters for recall\n",
            "\n",
            "Best parameters set found on development set:\n",
            "\n",
            "{'max_depth': 20, 'max_features': 'sqrt', 'n_estimators': 100}\n",
            "\n",
            "Grid scores on development set:\n",
            "\n",
            "0.797 (+/-0.026) for {'max_depth': 20, 'max_features': 5, 'n_estimators': 20}\n",
            "0.802 (+/-0.014) for {'max_depth': 20, 'max_features': 5, 'n_estimators': 50}\n",
            "0.804 (+/-0.021) for {'max_depth': 20, 'max_features': 5, 'n_estimators': 100}\n",
            "0.791 (+/-0.028) for {'max_depth': 20, 'max_features': 'sqrt', 'n_estimators': 20}\n",
            "0.802 (+/-0.020) for {'max_depth': 20, 'max_features': 'sqrt', 'n_estimators': 50}\n",
            "0.804 (+/-0.019) for {'max_depth': 20, 'max_features': 'sqrt', 'n_estimators': 100}\n",
            "0.797 (+/-0.018) for {'max_depth': 20, 'max_features': 'auto', 'n_estimators': 20}\n",
            "0.799 (+/-0.022) for {'max_depth': 20, 'max_features': 'auto', 'n_estimators': 50}\n",
            "0.802 (+/-0.023) for {'max_depth': 20, 'max_features': 'auto', 'n_estimators': 100}\n",
            "0.795 (+/-0.016) for {'max_depth': 30, 'max_features': 5, 'n_estimators': 20}\n",
            "0.802 (+/-0.020) for {'max_depth': 30, 'max_features': 5, 'n_estimators': 50}\n",
            "0.800 (+/-0.019) for {'max_depth': 30, 'max_features': 5, 'n_estimators': 100}\n",
            "0.793 (+/-0.018) for {'max_depth': 30, 'max_features': 'sqrt', 'n_estimators': 20}\n",
            "0.800 (+/-0.018) for {'max_depth': 30, 'max_features': 'sqrt', 'n_estimators': 50}\n",
            "0.802 (+/-0.029) for {'max_depth': 30, 'max_features': 'sqrt', 'n_estimators': 100}\n",
            "0.793 (+/-0.020) for {'max_depth': 30, 'max_features': 'auto', 'n_estimators': 20}\n",
            "0.800 (+/-0.027) for {'max_depth': 30, 'max_features': 'auto', 'n_estimators': 50}\n",
            "0.799 (+/-0.023) for {'max_depth': 30, 'max_features': 'auto', 'n_estimators': 100}\n",
            "\n",
            "Detailed classification report:\n",
            "\n",
            "The model is trained on the full development set.\n",
            "The scores are computed on the full evaluation set.\n",
            "\n",
            "              precision    recall  f1-score   support\n",
            "\n",
            "           0       1.00      1.00      1.00    176233\n",
            "           1       0.89      0.80      0.84      2160\n",
            "\n",
            "    accuracy                           1.00    178393\n",
            "   macro avg       0.94      0.90      0.92    178393\n",
            "weighted avg       1.00      1.00      1.00    178393\n",
            "\n",
            "\n"
          ],
          "name": "stdout"
        },
        {
          "output_type": "execute_result",
          "data": {
            "text/plain": [
              "GridSearchCV(cv=KFold(n_splits=5, random_state=None, shuffle=True),\n",
              "             error_score=nan,\n",
              "             estimator=RandomForestClassifier(bootstrap=True, ccp_alpha=0.0,\n",
              "                                              class_weight=None,\n",
              "                                              criterion='gini', max_depth=None,\n",
              "                                              max_features='auto',\n",
              "                                              max_leaf_nodes=None,\n",
              "                                              max_samples=None,\n",
              "                                              min_impurity_decrease=0.0,\n",
              "                                              min_impurity_split=None,\n",
              "                                              min_samples_leaf=1,\n",
              "                                              min_samples_split=2,\n",
              "                                              min_weight_fraction_leaf=0.0,\n",
              "                                              n_estimators=20, n_jobs=None,\n",
              "                                              oob_score=False,\n",
              "                                              random_state=None, verbose=0,\n",
              "                                              warm_start=False),\n",
              "             iid='deprecated', n_jobs=None,\n",
              "             param_grid={'max_depth': [20, 30],\n",
              "                         'max_features': [5, 'sqrt', 'auto'],\n",
              "                         'n_estimators': [20, 50, 100]},\n",
              "             pre_dispatch='2*n_jobs', refit=True, return_train_score=True,\n",
              "             scoring='recall', verbose=0)"
            ]
          },
          "metadata": {
            "tags": []
          },
          "execution_count": 196
        }
      ]
    },
    {
      "cell_type": "code",
      "metadata": {
        "colab": {
          "base_uri": "https://localhost:8080/"
        },
        "id": "YIlhdg8IFIQC",
        "outputId": "76fb5946-af33-4b14-e265-9b675dfbc85a"
      },
      "source": [
        "RFC_best = RandomForestClassifier(max_depth=20, max_features='sqrt', n_estimators=100)\n",
        "RFC_best.fit(X_train, Y_train)"
      ],
      "execution_count": null,
      "outputs": [
        {
          "output_type": "execute_result",
          "data": {
            "text/plain": [
              "RandomForestClassifier(bootstrap=True, ccp_alpha=0.0, class_weight=None,\n",
              "                       criterion='gini', max_depth=20, max_features='sqrt',\n",
              "                       max_leaf_nodes=None, max_samples=None,\n",
              "                       min_impurity_decrease=0.0, min_impurity_split=None,\n",
              "                       min_samples_leaf=1, min_samples_split=2,\n",
              "                       min_weight_fraction_leaf=0.0, n_estimators=100,\n",
              "                       n_jobs=None, oob_score=False, random_state=None,\n",
              "                       verbose=0, warm_start=False)"
            ]
          },
          "metadata": {
            "tags": []
          },
          "execution_count": 89
        }
      ]
    },
    {
      "cell_type": "code",
      "metadata": {
        "id": "77jTU12njJxV",
        "colab": {
          "base_uri": "https://localhost:8080/"
        },
        "outputId": "e77edefd-b3bb-4326-fc1c-77f5f803a5cd"
      },
      "source": [
        "sorted(list(zip(X_train.columns, RFC_best.feature_importances_)), reverse=True)"
      ],
      "execution_count": null,
      "outputs": [
        {
          "output_type": "execute_result",
          "data": {
            "text/plain": [
              "[('step', 0.04777375789626242),\n",
              " ('merchant_mean_amount', 0.24645378141028756),\n",
              " ('merchant', 0.0642959005676931),\n",
              " ('gender', 0.006614757064046672),\n",
              " ('customer_mean_amount', 0.13691288743708846),\n",
              " ('customer', 0.04121254842014997),\n",
              " ('category', 0.039319758540868124),\n",
              " ('amount', 0.4003272466086426),\n",
              " ('age', 0.017089362054961157)]"
            ]
          },
          "metadata": {
            "tags": []
          },
          "execution_count": 198
        }
      ]
    },
    {
      "cell_type": "markdown",
      "metadata": {
        "id": "_hhXY8xf7wfw"
      },
      "source": [
        "### SMOTE-балансировка данных\n",
        "\n",
        "Исходные данные имеют выраженный дисбаланс классов (1,21% фактов мошенничества против 98,79% обычных транзакций).\n",
        "Для балансировки исходной выборки используем метод SMOTE (метод передискретизации синтетического меньшинства)"
      ]
    },
    {
      "cell_type": "code",
      "metadata": {
        "id": "JhNOviBnzAR-"
      },
      "source": [
        "from imblearn.over_sampling import SMOTE"
      ],
      "execution_count": null,
      "outputs": []
    },
    {
      "cell_type": "code",
      "metadata": {
        "colab": {
          "base_uri": "https://localhost:8080/"
        },
        "id": "szaBM2Eg3yoW",
        "outputId": "468e5bd8-d7d4-4548-baa3-497bd0b38814"
      },
      "source": [
        "Y_train[Y_train==1].size"
      ],
      "execution_count": null,
      "outputs": [
        {
          "output_type": "execute_result",
          "data": {
            "text/plain": [
              "5040"
            ]
          },
          "metadata": {
            "tags": []
          },
          "execution_count": 101
        }
      ]
    },
    {
      "cell_type": "code",
      "metadata": {
        "id": "jGrbxFZCzB0u",
        "colab": {
          "base_uri": "https://localhost:8080/"
        },
        "outputId": "95b0dc90-c77f-4f44-f195-067b2a7ab40e"
      },
      "source": [
        "smote = SMOTE(ratio='minority')\n",
        "X_sm, Y_sm = smote.fit_resample(X_train, Y_train)\n",
        " \n",
        "Y_sm[Y_sm==1].size"
      ],
      "execution_count": null,
      "outputs": [
        {
          "output_type": "stream",
          "text": [
            "/usr/local/lib/python3.7/dist-packages/sklearn/utils/deprecation.py:87: FutureWarning: Function safe_indexing is deprecated; safe_indexing is deprecated in version 0.22 and will be removed in version 0.24.\n",
            "  warnings.warn(msg, category=FutureWarning)\n"
          ],
          "name": "stderr"
        },
        {
          "output_type": "execute_result",
          "data": {
            "text/plain": [
              "411210"
            ]
          },
          "metadata": {
            "tags": []
          },
          "execution_count": 102
        }
      ]
    },
    {
      "cell_type": "code",
      "metadata": {
        "id": "omrCahY__omu",
        "colab": {
          "base_uri": "https://localhost:8080/"
        },
        "outputId": "d39fe04f-3ea1-42a3-ebe2-f794a462ca74"
      },
      "source": [
        "RFC_best.fit(X_sm, Y_sm)"
      ],
      "execution_count": null,
      "outputs": [
        {
          "output_type": "execute_result",
          "data": {
            "text/plain": [
              "RandomForestClassifier(bootstrap=True, ccp_alpha=0.0, class_weight=None,\n",
              "                       criterion='gini', max_depth=20, max_features='sqrt',\n",
              "                       max_leaf_nodes=None, max_samples=None,\n",
              "                       min_impurity_decrease=0.0, min_impurity_split=None,\n",
              "                       min_samples_leaf=1, min_samples_split=2,\n",
              "                       min_weight_fraction_leaf=0.0, n_estimators=100,\n",
              "                       n_jobs=None, oob_score=False, random_state=None,\n",
              "                       verbose=0, warm_start=False)"
            ]
          },
          "metadata": {
            "tags": []
          },
          "execution_count": 103
        }
      ]
    },
    {
      "cell_type": "code",
      "metadata": {
        "colab": {
          "base_uri": "https://localhost:8080/"
        },
        "id": "ZrMtY3jpTw_e",
        "outputId": "995851c3-5665-4f73-fa70-bff953afe79d"
      },
      "source": [
        "Y_pred = RFC_best.predict(X_test)\n",
        "Y_pred.shape"
      ],
      "execution_count": null,
      "outputs": [
        {
          "output_type": "execute_result",
          "data": {
            "text/plain": [
              "(178393,)"
            ]
          },
          "metadata": {
            "tags": []
          },
          "execution_count": 97
        }
      ]
    },
    {
      "cell_type": "code",
      "metadata": {
        "colab": {
          "base_uri": "https://localhost:8080/"
        },
        "id": "j4TFm4NU4Jeh",
        "outputId": "cf95d58b-9200-4032-c147-650159d1e3f0"
      },
      "source": [
        "print(\"On train set: {}\".format(accuracy_score(Y_sm, RFC_best.predict(X_sm))))\n",
        "print(\"On test set: {}\".format(accuracy_score(Y_test, Y_pred)))"
      ],
      "execution_count": null,
      "outputs": [
        {
          "output_type": "stream",
          "text": [
            "On train set: 0.7538009776026847\n",
            "On test set: 0.9772132314608757\n"
          ],
          "name": "stdout"
        }
      ]
    },
    {
      "cell_type": "code",
      "metadata": {
        "colab": {
          "base_uri": "https://localhost:8080/"
        },
        "id": "FJRqxjOr4W4o",
        "outputId": "30cfc73a-234a-4952-b1bd-196deabf3306"
      },
      "source": [
        "print(classification_report(Y_test, RFC_best.predict(X_test)))"
      ],
      "execution_count": null,
      "outputs": [
        {
          "output_type": "stream",
          "text": [
            "              precision    recall  f1-score   support\n",
            "\n",
            "           0       1.00      0.99      0.99    176233\n",
            "           1       0.53      0.93      0.68      2160\n",
            "\n",
            "    accuracy                           0.99    178393\n",
            "   macro avg       0.77      0.96      0.84    178393\n",
            "weighted avg       0.99      0.99      0.99    178393\n",
            "\n"
          ],
          "name": "stdout"
        }
      ]
    },
    {
      "cell_type": "markdown",
      "metadata": {
        "id": "S2CQcgxvObia"
      },
      "source": [
        "## Оценка эффективности различных методик для решения поставленной задачи\n"
      ]
    },
    {
      "cell_type": "code",
      "metadata": {
        "colab": {
          "base_uri": "https://localhost:8080/",
          "height": 235
        },
        "id": "DAaYix53PdUS",
        "outputId": "c1b3dc21-e841-4e52-b371-147f04621bf3"
      },
      "source": [
        "rating = [[\"Heuristic\", 0, 1., 0.99, 0.99],\n",
        "          [\"Heuristic\", 1, 0.55, 0.81, 0.66],\n",
        "          [\"RandomForest\", 0, 1., 1., 1.],\n",
        "          [\"RandomForest\", 1, 0.89, 0.80, 0.84],\n",
        "          [\"RandomForest SMOTE\", 0, 1., 0.99, 0.99],\n",
        "          [\"RandomForest SMOTE\", 1, 0.53, 0.93, 0.68]]\n",
        "res = pd.DataFrame(rating, columns=['model', 'class', 'precision', 'recall', 'f1-score'])\n",
        "res"
      ],
      "execution_count": null,
      "outputs": [
        {
          "output_type": "execute_result",
          "data": {
            "text/html": [
              "<div>\n",
              "<style scoped>\n",
              "    .dataframe tbody tr th:only-of-type {\n",
              "        vertical-align: middle;\n",
              "    }\n",
              "\n",
              "    .dataframe tbody tr th {\n",
              "        vertical-align: top;\n",
              "    }\n",
              "\n",
              "    .dataframe thead th {\n",
              "        text-align: right;\n",
              "    }\n",
              "</style>\n",
              "<table border=\"1\" class=\"dataframe\">\n",
              "  <thead>\n",
              "    <tr style=\"text-align: right;\">\n",
              "      <th></th>\n",
              "      <th>model</th>\n",
              "      <th>class</th>\n",
              "      <th>precision</th>\n",
              "      <th>recall</th>\n",
              "      <th>f1-score</th>\n",
              "    </tr>\n",
              "  </thead>\n",
              "  <tbody>\n",
              "    <tr>\n",
              "      <th>0</th>\n",
              "      <td>Heuristic</td>\n",
              "      <td>0</td>\n",
              "      <td>1.00</td>\n",
              "      <td>0.99</td>\n",
              "      <td>0.99</td>\n",
              "    </tr>\n",
              "    <tr>\n",
              "      <th>1</th>\n",
              "      <td>Heuristic</td>\n",
              "      <td>1</td>\n",
              "      <td>0.55</td>\n",
              "      <td>0.81</td>\n",
              "      <td>0.66</td>\n",
              "    </tr>\n",
              "    <tr>\n",
              "      <th>2</th>\n",
              "      <td>RandomForest</td>\n",
              "      <td>0</td>\n",
              "      <td>1.00</td>\n",
              "      <td>1.00</td>\n",
              "      <td>1.00</td>\n",
              "    </tr>\n",
              "    <tr>\n",
              "      <th>3</th>\n",
              "      <td>RandomForest</td>\n",
              "      <td>1</td>\n",
              "      <td>0.89</td>\n",
              "      <td>0.80</td>\n",
              "      <td>0.84</td>\n",
              "    </tr>\n",
              "    <tr>\n",
              "      <th>4</th>\n",
              "      <td>RandomForest SMOTE</td>\n",
              "      <td>0</td>\n",
              "      <td>1.00</td>\n",
              "      <td>0.99</td>\n",
              "      <td>0.99</td>\n",
              "    </tr>\n",
              "    <tr>\n",
              "      <th>5</th>\n",
              "      <td>RandomForest SMOTE</td>\n",
              "      <td>1</td>\n",
              "      <td>0.53</td>\n",
              "      <td>0.93</td>\n",
              "      <td>0.68</td>\n",
              "    </tr>\n",
              "  </tbody>\n",
              "</table>\n",
              "</div>"
            ],
            "text/plain": [
              "                model  class  precision  recall  f1-score\n",
              "0           Heuristic      0       1.00    0.99      0.99\n",
              "1           Heuristic      1       0.55    0.81      0.66\n",
              "2        RandomForest      0       1.00    1.00      1.00\n",
              "3        RandomForest      1       0.89    0.80      0.84\n",
              "4  RandomForest SMOTE      0       1.00    0.99      0.99\n",
              "5  RandomForest SMOTE      1       0.53    0.93      0.68"
            ]
          },
          "metadata": {
            "tags": []
          },
          "execution_count": 34
        }
      ]
    },
    {
      "cell_type": "markdown",
      "metadata": {
        "id": "fcA7d20_Vp6j"
      },
      "source": [
        "**С учетом выбранной метрики, лучше всего с решением поставленной задачи справляется модель RandomForest SMOTE, однако в этом случае мы существенно проигрываем в точности.**"
      ]
    },
    {
      "cell_type": "markdown",
      "metadata": {
        "id": "G7LMuWzERxhT"
      },
      "source": [
        "## Подготовка данных к выгрузке"
      ]
    },
    {
      "cell_type": "code",
      "metadata": {
        "colab": {
          "base_uri": "https://localhost:8080/",
          "height": 204
        },
        "id": "RwZSa-vyJMDT",
        "outputId": "deff0640-17e7-45d4-953f-a1bb32691ae4"
      },
      "source": [
        "def inverse_encode_features(init_df, columns_to_transform, encoder):\n",
        "    result = init_df.copy() \n",
        "    for column in columns_to_transform:\n",
        "        result[column] = encoder[column].inverse_transform(result[column]) \n",
        "    return result\n",
        "\n",
        "X_test_inverse = inverse_encode_features(X_test_base, ['gender','customer', 'merchant', 'category'], encoders) \n",
        "X_test_inverse.head() "
      ],
      "execution_count": null,
      "outputs": [
        {
          "output_type": "execute_result",
          "data": {
            "text/html": [
              "<div>\n",
              "<style scoped>\n",
              "    .dataframe tbody tr th:only-of-type {\n",
              "        vertical-align: middle;\n",
              "    }\n",
              "\n",
              "    .dataframe tbody tr th {\n",
              "        vertical-align: top;\n",
              "    }\n",
              "\n",
              "    .dataframe thead th {\n",
              "        text-align: right;\n",
              "    }\n",
              "</style>\n",
              "<table border=\"1\" class=\"dataframe\">\n",
              "  <thead>\n",
              "    <tr style=\"text-align: right;\">\n",
              "      <th></th>\n",
              "      <th>step</th>\n",
              "      <th>customer</th>\n",
              "      <th>age</th>\n",
              "      <th>gender</th>\n",
              "      <th>merchant</th>\n",
              "      <th>category</th>\n",
              "      <th>amount</th>\n",
              "    </tr>\n",
              "  </thead>\n",
              "  <tbody>\n",
              "    <tr>\n",
              "      <th>130064</th>\n",
              "      <td>46</td>\n",
              "      <td>C2033310172</td>\n",
              "      <td>4</td>\n",
              "      <td>M</td>\n",
              "      <td>M348934600</td>\n",
              "      <td>es_transportation</td>\n",
              "      <td>23.43</td>\n",
              "    </tr>\n",
              "    <tr>\n",
              "      <th>254542</th>\n",
              "      <td>85</td>\n",
              "      <td>C72452640</td>\n",
              "      <td>2</td>\n",
              "      <td>F</td>\n",
              "      <td>M1823072687</td>\n",
              "      <td>es_transportation</td>\n",
              "      <td>16.20</td>\n",
              "    </tr>\n",
              "    <tr>\n",
              "      <th>85104</th>\n",
              "      <td>31</td>\n",
              "      <td>C506520283</td>\n",
              "      <td>4</td>\n",
              "      <td>F</td>\n",
              "      <td>M348934600</td>\n",
              "      <td>es_transportation</td>\n",
              "      <td>34.12</td>\n",
              "    </tr>\n",
              "    <tr>\n",
              "      <th>408144</th>\n",
              "      <td>129</td>\n",
              "      <td>C1506293914</td>\n",
              "      <td>5</td>\n",
              "      <td>M</td>\n",
              "      <td>M151143676</td>\n",
              "      <td>es_barsandrestaurants</td>\n",
              "      <td>61.33</td>\n",
              "    </tr>\n",
              "    <tr>\n",
              "      <th>328969</th>\n",
              "      <td>106</td>\n",
              "      <td>C1014313887</td>\n",
              "      <td>5</td>\n",
              "      <td>F</td>\n",
              "      <td>M348934600</td>\n",
              "      <td>es_transportation</td>\n",
              "      <td>60.27</td>\n",
              "    </tr>\n",
              "  </tbody>\n",
              "</table>\n",
              "</div>"
            ],
            "text/plain": [
              "        step     customer  age  ...     merchant               category amount\n",
              "130064    46  C2033310172    4  ...   M348934600      es_transportation  23.43\n",
              "254542    85    C72452640    2  ...  M1823072687      es_transportation  16.20\n",
              "85104     31   C506520283    4  ...   M348934600      es_transportation  34.12\n",
              "408144   129  C1506293914    5  ...   M151143676  es_barsandrestaurants  61.33\n",
              "328969   106  C1014313887    5  ...   M348934600      es_transportation  60.27\n",
              "\n",
              "[5 rows x 7 columns]"
            ]
          },
          "metadata": {
            "tags": []
          },
          "execution_count": 105
        }
      ]
    },
    {
      "cell_type": "code",
      "metadata": {
        "id": "yf2rMCldYT4U"
      },
      "source": [
        "X_test_inverse['prediction'] = Y_pred"
      ],
      "execution_count": null,
      "outputs": []
    },
    {
      "cell_type": "code",
      "metadata": {
        "colab": {
          "base_uri": "https://localhost:8080/"
        },
        "id": "fVFKo1ozbY9j",
        "outputId": "b38c6e22-d3c2-4608-9728-2d6542e396b8"
      },
      "source": [
        "df_submit = X_test_inverse.sample(5000)\n",
        "df_submit[df_submit['prediction']==1].count()"
      ],
      "execution_count": null,
      "outputs": [
        {
          "output_type": "execute_result",
          "data": {
            "text/plain": [
              "step          53\n",
              "customer      53\n",
              "age           53\n",
              "gender        53\n",
              "merchant      53\n",
              "category      53\n",
              "amount        53\n",
              "prediction    53\n",
              "dtype: int64"
            ]
          },
          "metadata": {
            "tags": []
          },
          "execution_count": 114
        }
      ]
    },
    {
      "cell_type": "code",
      "metadata": {
        "id": "CDrcvg0clNOz"
      },
      "source": [
        "df_submit.to_csv('./drive/MyDrive/Colab Notebooks/prj3.csv', sep=',', index=False)"
      ],
      "execution_count": null,
      "outputs": []
    }
  ]
}